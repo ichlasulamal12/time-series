{
  "nbformat": 4,
  "nbformat_minor": 0,
  "metadata": {
    "colab": {
      "name": "LSTM Try 8.ipynb",
      "provenance": [],
      "collapsed_sections": [],
      "toc_visible": true
    },
    "kernelspec": {
      "name": "python3",
      "display_name": "Python 3"
    },
    "language_info": {
      "name": "python"
    }
  },
  "cells": [
    {
      "cell_type": "markdown",
      "metadata": {
        "id": "TCVC9n5a258q"
      },
      "source": [
        "# Import package"
      ]
    },
    {
      "cell_type": "code",
      "metadata": {
        "id": "LQzk46HO7sLC"
      },
      "source": [
        "import os\n",
        "os.environ['PYTHONHASHSEED']=str(100)\n",
        "\n",
        "import random\n",
        "import numpy as np\n",
        "import pandas as pd\n",
        "import tensorflow as tf\n",
        "import seaborn as sns\n",
        "import matplotlib.pyplot as plt\n",
        "import warnings\n",
        "from pylab import rcParams\n",
        "from sklearn.preprocessing import MinMaxScaler\n",
        "from tensorflow.keras.layers import Dropout, Activation, Dense, LSTM\n",
        "from tensorflow.keras.models import Sequential\n",
        "from tensorflow.keras.utils import plot_model\n",
        "\n",
        "%matplotlib inline\n",
        "\n",
        "sns.set()\n",
        "\n",
        "warnings.filterwarnings(\"ignore\")\n",
        "\n",
        "plt.style.use('ggplot')\n",
        "plt.rc('xtick', labelsize=15) \n",
        "plt.rc('ytick', labelsize=15) \n",
        "\n",
        "def reset_random_seeds():\n",
        "   os.environ['PYTHONHASHSEED']=str(100)\n",
        "   tf.random.set_seed(100)\n",
        "   np.random.seed(100)\n",
        "   random.seed(100)"
      ],
      "execution_count": null,
      "outputs": []
    },
    {
      "cell_type": "code",
      "metadata": {
        "colab": {
          "base_uri": "https://localhost:8080/"
        },
        "id": "qEQxo2bW73j-",
        "outputId": "627badb9-21e9-4278-819f-fab398d94db2"
      },
      "source": [
        "from google.colab import drive\n",
        "drive.mount(\"/content/gdrive\")"
      ],
      "execution_count": null,
      "outputs": [
        {
          "output_type": "stream",
          "text": [
            "Mounted at /content/gdrive\n"
          ],
          "name": "stdout"
        }
      ]
    },
    {
      "cell_type": "markdown",
      "metadata": {
        "id": "irItAWsf3C9A"
      },
      "source": [
        "# Load file"
      ]
    },
    {
      "cell_type": "code",
      "metadata": {
        "id": "DTxXHZc074RC"
      },
      "source": [
        "df = pd.read_csv('/content/gdrive/My Drive/Kuliah/Skripsi/CPO-bappebti.csv', parse_dates=['Tanggal'])\n",
        "df = df[df['Penyerahan'] == \"SPOT\"].reset_index(drop = True)\n",
        "df = df[[\"Tanggal\", \"Harga\"]]\n",
        "\n",
        "price = df.Harga.values.reshape(-1, 1)"
      ],
      "execution_count": null,
      "outputs": []
    },
    {
      "cell_type": "markdown",
      "metadata": {
        "id": "L1RlTci-3Jcx"
      },
      "source": [
        "# Analysis"
      ]
    },
    {
      "cell_type": "code",
      "metadata": {
        "id": "eVsjU2oi76Vj"
      },
      "source": [
        "def to_sequences(data, seq_len):\n",
        "    d = []\n",
        "\n",
        "    for index in range(len(data) - (seq_len-1)): # seq_len diganti jadi (seq_len-1)\n",
        "        d.append(data[index: index + seq_len])\n",
        "\n",
        "    return np.array(d)\n",
        "\n",
        "def mse(predictions, targets):\n",
        "    return ((predictions - targets) ** 2).mean()\n",
        "\n",
        "def mape(actual, pred): \n",
        "    actual, pred = np.array(actual), np.array(pred)\n",
        "    return np.mean(np.abs((actual - pred) / actual)) * 100"
      ],
      "execution_count": null,
      "outputs": []
    },
    {
      "cell_type": "code",
      "metadata": {
        "id": "39dggKuy8CaN",
        "colab": {
          "base_uri": "https://localhost:8080/"
        },
        "outputId": "86f2691f-8026-4368-bce3-36f31cec96b7"
      },
      "source": [
        "SEQ_LEN = 11\n",
        "SEQ = (8,9,10) #default\n",
        "train_split = 0.7\n",
        "\n",
        "data = to_sequences(price, SEQ_LEN)\n",
        "num_train = int(train_split * data.shape[0])\n",
        "train = data[:num_train, :, :]\n",
        "\n",
        "scaler = MinMaxScaler()\n",
        "scaler = scaler.fit(train.reshape(-1,1))\n",
        "\n",
        "print('Min: %f, Max: %f' % (scaler.data_min_, scaler.data_max_))"
      ],
      "execution_count": null,
      "outputs": [
        {
          "output_type": "stream",
          "text": [
            "Min: 5764.000000, Max: 10981.000000\n"
          ],
          "name": "stdout"
        }
      ]
    },
    {
      "cell_type": "code",
      "metadata": {
        "id": "xPXmR0yJ8aOa"
      },
      "source": [
        "data_scaled = scaler.transform(price)\n",
        "data_scaled = to_sequences(data_scaled, SEQ_LEN)\n",
        "data_scaled = data_scaled[:,SEQ,:]\n",
        "\n",
        "train_scaled = data_scaled[:num_train, :, :]\n",
        "test_scaled = data_scaled[num_train:, :, :]\n",
        "\n",
        "X_train = train_scaled[:, :-1, :]\n",
        "Y_train = train_scaled[:, -1, :]\n",
        "X_test = test_scaled[:, :-1, :]\n",
        "Y_test = test_scaled[:, -1, :]\n",
        "\n",
        "tanggal_train = df[\"Tanggal\"][10:1719+10].reset_index(drop = True)\n",
        "tanggal_test = df[\"Tanggal\"][1719+10:].reset_index(drop = True)"
      ],
      "execution_count": null,
      "outputs": []
    },
    {
      "cell_type": "code",
      "metadata": {
        "id": "6QvRoxnF9Ahc"
      },
      "source": [
        "reset_random_seeds()\n",
        "\n",
        "WINDOW_SIZE = len(SEQ) - 1\n",
        "\n",
        "model = Sequential()\n",
        "model.add(LSTM(6, return_sequences=False, \n",
        "              input_shape=(WINDOW_SIZE, X_train.shape[-1])))\n",
        "model.add(Dense(1))\n",
        "\n",
        "opt = tf.optimizers.Adam(learning_rate=0.001)\n",
        "model.compile(\n",
        "    loss='mean_squared_error', \n",
        "    optimizer=opt\n",
        ")\n",
        "\n",
        "history_data = model.fit(\n",
        "    X_train, \n",
        "    Y_train, \n",
        "    epochs=200, \n",
        "    batch_size=32, \n",
        "    shuffle=False,\n",
        "    verbose=0\n",
        ")\n",
        "\n",
        "y_hatTrain = model.predict(X_train)\n",
        "#y_hat = model.predict(X_test)\n",
        "\n",
        "y_train_inverse = scaler.inverse_transform(Y_train)\n",
        "y_hatTrain_inverse = scaler.inverse_transform(y_hatTrain)\n",
        "\n",
        "#y_test_inverse = scaler.inverse_transform(Y_test)\n",
        "#y_hat_inverse = scaler.inverse_transform(y_hat)\n",
        "\n",
        "MSEDataTraining = mse(y_hatTrain_inverse, y_train_inverse)\n",
        "#MSEDataTesting = mse(y_hat_inverse, y_test_inverse)\n",
        "\n",
        "print(\"Nilai MSE data train = {}\".format(MSEDataTraining))\n",
        "#print(\"Nilai MSE data test = {}\".format(MSEDataTesting))"
      ],
      "execution_count": null,
      "outputs": []
    },
    {
      "cell_type": "code",
      "metadata": {
        "id": "7bSMU-ewSXac"
      },
      "source": [
        "#model.save('/content/gdrive/My Drive/Kuliah/Skripsi/modelLSTM')"
      ],
      "execution_count": null,
      "outputs": []
    },
    {
      "cell_type": "markdown",
      "metadata": {
        "id": "AAAE80gg3Pel"
      },
      "source": [
        "# Predict"
      ]
    },
    {
      "cell_type": "code",
      "metadata": {
        "id": "RnJ4Zl5lK065",
        "colab": {
          "base_uri": "https://localhost:8080/"
        },
        "outputId": "d461de1f-d9e5-4fe9-ae65-194c475169e5"
      },
      "source": [
        "model = tf.keras.models.load_model('/content/gdrive/My Drive/Kuliah/Skripsi/modelLSTM')\n",
        "\n",
        "y_hatTrain = model.predict(X_train)\n",
        "y_hat = model.predict(X_test)\n",
        "\n",
        "y_train_inverse = scaler.inverse_transform(Y_train)\n",
        "y_hatTrain_inverse = scaler.inverse_transform(y_hatTrain)\n",
        "\n",
        "y_test_inverse = scaler.inverse_transform(Y_test)\n",
        "y_hat_inverse = scaler.inverse_transform(y_hat)"
      ],
      "execution_count": null,
      "outputs": [
        {
          "output_type": "stream",
          "text": [
            "WARNING:tensorflow:SavedModel saved prior to TF 2.5 detected when loading Keras model. Please ensure that you are saving the model with model.save() or tf.keras.models.save_model(), *NOT* tf.saved_model.save(). To confirm, there should be a file named \"keras_metadata.pb\" in the SavedModel directory.\n"
          ],
          "name": "stdout"
        }
      ]
    },
    {
      "cell_type": "code",
      "metadata": {
        "colab": {
          "base_uri": "https://localhost:8080/",
          "height": 431
        },
        "id": "HPZTusEBKshD",
        "outputId": "784ac716-e283-4d45-c0ef-fafdae48a67d"
      },
      "source": [
        "y_train_inverse_df = pd.DataFrame(y_train_inverse, columns=[\"Aktual\"]).reset_index(drop = True)\n",
        "y_hatTrain_inverse_df = pd.DataFrame(y_hatTrain_inverse, columns=[\"Prediksi\"]).reset_index(drop = True)\n",
        "train_df = pd.concat([tanggal_train, y_train_inverse_df, y_hatTrain_inverse_df], axis=1)\n",
        "\n",
        "fig, ax = plt.subplots(figsize=(12, 6))\n",
        "sns.lineplot(train_df[\"Tanggal\"], train_df[\"Aktual\"], color = '#52f032')\n",
        "sns.lineplot(train_df[\"Tanggal\"], train_df[\"Prediksi\"], color = '#0324fc')\n",
        "\n",
        "ax.set_title('Harga Minyak Sawit Mentah\\n(Data Train)', fontsize = 14, loc='center', fontdict=dict(weight='bold'))\n",
        "ax.set_xlabel('')\n",
        "ax.set_ylabel('Harga', fontsize = 12, fontdict=dict(weight='bold'))\n",
        "plt.tick_params(axis='y', which='major', labelsize=14)\n",
        "plt.tick_params(axis='x', which='major', labelsize=14)\n",
        "ax.legend([\"Aktual\", \"Prediksi\"])"
      ],
      "execution_count": null,
      "outputs": [
        {
          "output_type": "execute_result",
          "data": {
            "text/plain": [
              "<matplotlib.legend.Legend at 0x7ff22e1a1710>"
            ]
          },
          "metadata": {
            "tags": []
          },
          "execution_count": 21
        },
        {
          "output_type": "display_data",
          "data": {
            "image/png": "[encoded data removed]",
            "text/plain": [
              "<Figure size 864x432 with 1 Axes>"
            ]
          },
          "metadata": {
            "tags": [],
            "needs_background": "light"
          }
        }
      ]
    },
    {
      "cell_type": "code",
      "metadata": {
        "colab": {
          "base_uri": "https://localhost:8080/",
          "height": 415
        },
        "id": "ibmW17pZKxLw",
        "outputId": "20b5bcb9-82e0-4acc-ba0d-ccac53e0a50c"
      },
      "source": [
        "y_test_inverse_df = pd.DataFrame(y_test_inverse, columns=[\"Aktual\"]).reset_index(drop = True)\n",
        "y_hat_df = pd.DataFrame(y_hat, columns=[\"Prediksi Normalisasi\"]).reset_index(drop = True)\n",
        "y_hat_inverse_df = pd.DataFrame(y_hat_inverse, columns=[\"Prediksi\"]).reset_index(drop = True)\n",
        "test_df = pd.concat([tanggal_test, y_test_inverse_df, y_hat_df, y_hat_inverse_df], axis=1)\n",
        "\n",
        "fig, ax = plt.subplots(figsize=(12, 6))\n",
        "sns.lineplot(test_df[\"Tanggal\"], test_df[\"Aktual\"], color = '#52f032')\n",
        "sns.lineplot(test_df[\"Tanggal\"], test_df[\"Prediksi\"], color = '#0324fc')\n",
        "\n",
        "ax.set_title('Crude Palm Oil Price', fontsize = 14, loc='center', fontdict=dict(weight='bold'))\n",
        "ax.set_xlabel('')\n",
        "ax.set_ylabel('Price', fontsize = 12, fontdict=dict(weight='bold'))\n",
        "plt.tick_params(axis='y', which='major', labelsize=14)\n",
        "plt.tick_params(axis='x', which='major', labelsize=14)\n",
        "ax.legend([\"Actual\", \"Prediction\"])"
      ],
      "execution_count": null,
      "outputs": [
        {
          "output_type": "execute_result",
          "data": {
            "text/plain": [
              "<matplotlib.legend.Legend at 0x7ffb5c75b990>"
            ]
          },
          "metadata": {
            "tags": []
          },
          "execution_count": 10
        },
        {
          "output_type": "display_data",
          "data": {
            "image/png": "[encoded data removed]",
            "text/plain": [
              "<Figure size 864x432 with 1 Axes>"
            ]
          },
          "metadata": {
            "tags": [],
            "needs_background": "light"
          }
        }
      ]
    },
    {
      "cell_type": "code",
      "metadata": {
        "colab": {
          "base_uri": "https://localhost:8080/"
        },
        "id": "fhaodygaK2z0",
        "outputId": "2600f5b2-b855-4b38-bcdc-e488f713bb8c"
      },
      "source": [
        "MAPEDataTesting = mape(y_test_inverse, y_hat_inverse)\n",
        "print(\"Nilai MAPE yang dihasilkan sebesar = {}%\".format(MAPEDataTesting))"
      ],
      "execution_count": null,
      "outputs": [
        {
          "output_type": "stream",
          "text": [
            "Nilai MAPE yang dihasilkan sebesar = 2.1119590158447585%\n"
          ],
          "name": "stdout"
        }
      ]
    },
    {
      "cell_type": "code",
      "metadata": {
        "id": "_DvwJlItRFwN"
      },
      "source": [
        "#test_df.to_excel(r\"test_df.xlsx\", index=False)"
      ],
      "execution_count": null,
      "outputs": []
    },
    {
      "cell_type": "code",
      "metadata": {
        "colab": {
          "base_uri": "https://localhost:8080/"
        },
        "id": "42o4caPedhoG",
        "outputId": "782fee3e-ad49-46de-cab2-13b476a945e9"
      },
      "source": [
        "model.summary()"
      ],
      "execution_count": null,
      "outputs": [
        {
          "output_type": "stream",
          "text": [
            "Model: \"sequential\"\n",
            "_________________________________________________________________\n",
            "Layer (type)                 Output Shape              Param #   \n",
            "=================================================================\n",
            "lstm (LSTM)                  (None, 6)                 192       \n",
            "_________________________________________________________________\n",
            "dense (Dense)                (None, 1)                 7         \n",
            "=================================================================\n",
            "Total params: 199\n",
            "Trainable params: 199\n",
            "Non-trainable params: 0\n",
            "_________________________________________________________________\n"
          ],
          "name": "stdout"
        }
      ]
    },
    {
      "cell_type": "markdown",
      "metadata": {
        "id": "KiYil9pL3T1y"
      },
      "source": [
        "# Weights"
      ]
    },
    {
      "cell_type": "code",
      "metadata": {
        "id": "1DOHGj61Ky6h",
        "colab": {
          "base_uri": "https://localhost:8080/"
        },
        "outputId": "a75d8251-9980-455b-d0a4-df06fc57f06d"
      },
      "source": [
        "print(model.layers[0].trainable_weights)"
      ],
      "execution_count": null,
      "outputs": [
        {
          "output_type": "stream",
          "text": [
            "[<tf.Variable 'lstm/lstm_cell/kernel:0' shape=(1, 24) dtype=float32, numpy=\n",
            "array([[-0.05394788,  0.26612848,  0.11457628,  0.08715884, -0.02985196,\n",
            "        -0.2585165 ,  0.6400835 ,  0.51505053,  0.022286  , -0.00668998,\n",
            "         0.12051554, -0.23309349, -0.29672968, -0.3282941 , -0.553172  ,\n",
            "        -0.27825713, -0.6007218 ,  0.45821652, -0.12363454,  0.5815993 ,\n",
            "         0.1379311 , -0.0388021 ,  0.76032895,  0.04152752]],\n",
            "      dtype=float32)>, <tf.Variable 'lstm/lstm_cell/recurrent_kernel:0' shape=(6, 24) dtype=float32, numpy=\n",
            "array([[-0.01834736, -0.4230579 ,  0.11185321,  0.11857624, -0.06168909,\n",
            "        -0.38403997,  0.15291232,  0.29828337,  0.02303299,  0.51701635,\n",
            "         0.11714061,  0.28597057,  0.11026725,  0.08856444,  0.04818391,\n",
            "         0.02781702,  0.39896435,  0.47830778, -0.26667744,  0.16357447,\n",
            "        -0.33689687,  0.3445287 , -0.04023381,  0.08822071],\n",
            "       [-0.12418836, -0.13574761, -0.03041478,  0.38896695, -0.0035328 ,\n",
            "         0.05889301, -0.0601084 , -0.32457855, -0.02594517,  0.7842564 ,\n",
            "         0.36570936,  0.56691426, -0.13257636,  0.24720924, -0.28147087,\n",
            "        -0.27605277, -0.00664325,  0.11076398, -0.04519768, -0.18123992,\n",
            "        -0.08618736,  0.11608168, -0.26067325,  0.21177384],\n",
            "       [-0.34019697, -0.26585296, -0.3175234 , -0.3260321 , -0.11076001,\n",
            "         0.0128824 ,  0.45670685,  0.16242525,  0.24472469,  0.89226294,\n",
            "         0.26796114,  0.3262907 , -0.20224811, -0.08882404,  0.0426453 ,\n",
            "         0.09701268,  0.08044533,  0.03940189, -0.13439706, -0.32272696,\n",
            "        -0.07039519, -0.11614169,  0.04356597, -0.15431294],\n",
            "       [-0.03319355,  0.28732717,  0.06988598, -0.07602167,  0.03670948,\n",
            "         0.06331614, -0.14086649,  0.05668481, -0.14967345,  0.33280122,\n",
            "         0.09412457, -0.18560523,  0.09651028, -0.2817021 ,  0.21082902,\n",
            "        -0.4241113 , -0.13988605,  0.26753858,  0.01443344, -0.03798833,\n",
            "        -0.03200539, -0.11000177,  0.0159932 ,  0.35371494],\n",
            "       [-0.13185748, -0.01713134, -0.09251299,  0.0588883 , -0.52872586,\n",
            "        -0.17153367, -0.051798  ,  0.06596737,  0.3622858 ,  0.80662423,\n",
            "        -0.3879094 ,  0.64220047,  0.21040013,  0.05495459, -0.04786725,\n",
            "        -0.17139246, -0.10797952,  0.45043832,  0.05086967, -0.35767975,\n",
            "        -0.12020528,  0.25278002,  0.09201216, -0.06016899],\n",
            "       [ 0.32424983,  0.33128908,  0.47699887, -0.24033388,  0.2451048 ,\n",
            "        -0.21660522,  0.19612454, -0.29327127, -0.3432802 , -0.32339215,\n",
            "        -0.1510179 , -0.27542737, -0.09043012,  0.00583282,  0.05670621,\n",
            "         0.02972821, -0.04416966, -0.4002852 , -0.06365208, -0.3550854 ,\n",
            "        -0.17764612,  0.19519201,  0.03241547, -0.31940165]],\n",
            "      dtype=float32)>, <tf.Variable 'lstm/lstm_cell/bias:0' shape=(24,) dtype=float32, numpy=\n",
            "array([ 0.12958875,  0.18359213,  0.1889618 , -0.10060105,  0.19682854,\n",
            "       -0.03255083,  0.88470024,  0.9754392 ,  0.9846131 ,  0.68803644,\n",
            "        1.0335077 ,  0.7311874 ,  0.01709063, -0.05297266,  0.02452657,\n",
            "        0.13550703, -0.01341168, -0.11177692,  0.14269076,  0.15423413,\n",
            "        0.19387378, -0.10739195,  0.15550756, -0.02545278], dtype=float32)>]\n"
          ],
          "name": "stdout"
        }
      ]
    },
    {
      "cell_type": "code",
      "metadata": {
        "id": "QfaR4-QvOUVF",
        "colab": {
          "base_uri": "https://localhost:8080/"
        },
        "outputId": "00949ec4-e645-483e-d4f1-c732e7be2cbd"
      },
      "source": [
        "units = int(int(model.layers[0].trainable_weights[0].shape[1])/4)\n",
        "print(\"No units: \", units)"
      ],
      "execution_count": null,
      "outputs": [
        {
          "output_type": "stream",
          "text": [
            "No units:  6\n"
          ],
          "name": "stdout"
        }
      ]
    },
    {
      "cell_type": "code",
      "metadata": {
        "id": "Y32-1-U1Uo8u"
      },
      "source": [
        "W = model.layers[0].get_weights()[0]\n",
        "U = model.layers[0].get_weights()[1]\n",
        "b = model.layers[0].get_weights()[2]"
      ],
      "execution_count": null,
      "outputs": []
    },
    {
      "cell_type": "code",
      "metadata": {
        "id": "XHXg-F1pUpVu"
      },
      "source": [
        "W_i = W[:, :units]\n",
        "W_f = W[:, units: units * 2]\n",
        "W_c = W[:, units * 2: units * 3]\n",
        "W_o = W[:, units * 3:]"
      ],
      "execution_count": null,
      "outputs": []
    },
    {
      "cell_type": "code",
      "metadata": {
        "colab": {
          "base_uri": "https://localhost:8080/"
        },
        "id": "J6-DOm3XViDi",
        "outputId": "b9829d14-28e1-4093-c854-a7bc9c36d881"
      },
      "source": [
        "W_i"
      ],
      "execution_count": null,
      "outputs": [
        {
          "output_type": "execute_result",
          "data": {
            "text/plain": [
              "array([[-0.05394788,  0.26612848,  0.11457628,  0.08715884, -0.02985196,\n",
              "        -0.2585165 ]], dtype=float32)"
            ]
          },
          "metadata": {
            "tags": []
          },
          "execution_count": 16
        }
      ]
    },
    {
      "cell_type": "code",
      "metadata": {
        "colab": {
          "base_uri": "https://localhost:8080/"
        },
        "id": "uAnvMxEcWKhU",
        "outputId": "52aaa854-489f-4928-b696-e146546423cd"
      },
      "source": [
        "W_f"
      ],
      "execution_count": null,
      "outputs": [
        {
          "output_type": "execute_result",
          "data": {
            "text/plain": [
              "array([[ 0.6400835 ,  0.51505053,  0.022286  , -0.00668998,  0.12051554,\n",
              "        -0.23309349]], dtype=float32)"
            ]
          },
          "metadata": {
            "tags": []
          },
          "execution_count": 17
        }
      ]
    },
    {
      "cell_type": "code",
      "metadata": {
        "colab": {
          "base_uri": "https://localhost:8080/"
        },
        "id": "9cGAvUu5WMwb",
        "outputId": "655573d1-b053-4381-d26e-51d1f369fe9e"
      },
      "source": [
        "W_c"
      ],
      "execution_count": null,
      "outputs": [
        {
          "output_type": "execute_result",
          "data": {
            "text/plain": [
              "array([[-0.29672968, -0.3282941 , -0.553172  , -0.27825713, -0.6007218 ,\n",
              "         0.45821652]], dtype=float32)"
            ]
          },
          "metadata": {
            "tags": []
          },
          "execution_count": 18
        }
      ]
    },
    {
      "cell_type": "code",
      "metadata": {
        "colab": {
          "base_uri": "https://localhost:8080/"
        },
        "id": "a8PYlQ3dWOW-",
        "outputId": "4ec4e8db-fa36-4641-df2c-17105decd51c"
      },
      "source": [
        "W_o"
      ],
      "execution_count": null,
      "outputs": [
        {
          "output_type": "execute_result",
          "data": {
            "text/plain": [
              "array([[-0.12363454,  0.5815993 ,  0.1379311 , -0.0388021 ,  0.76032895,\n",
              "         0.04152752]], dtype=float32)"
            ]
          },
          "metadata": {
            "tags": []
          },
          "execution_count": 19
        }
      ]
    },
    {
      "cell_type": "code",
      "metadata": {
        "id": "Knvfc87jUuKy"
      },
      "source": [
        "U_i = U[:, :units]\n",
        "U_f = U[:, units: units * 2]\n",
        "U_c = U[:, units * 2: units * 3]\n",
        "U_o = U[:, units * 3:]"
      ],
      "execution_count": null,
      "outputs": []
    },
    {
      "cell_type": "code",
      "metadata": {
        "colab": {
          "base_uri": "https://localhost:8080/"
        },
        "id": "EOEqxEbIWQsG",
        "outputId": "7fb92442-ced4-4c93-d2fa-23078643e9d8"
      },
      "source": [
        "U_i"
      ],
      "execution_count": null,
      "outputs": [
        {
          "output_type": "execute_result",
          "data": {
            "text/plain": [
              "array([[-0.01834729, -0.4230578 ,  0.1118532 ,  0.11857646, -0.06168911,\n",
              "        -0.3840406 ],\n",
              "       [-0.12418845, -0.13574743, -0.030415  ,  0.38896704, -0.00353282,\n",
              "         0.05889185],\n",
              "       [-0.3401969 , -0.26585376, -0.3175237 , -0.32603195, -0.11076013,\n",
              "         0.01288183],\n",
              "       [-0.03319409,  0.28732735,  0.06988537, -0.07602175,  0.036709  ,\n",
              "         0.06331559],\n",
              "       [-0.13185751, -0.01713128, -0.09251314,  0.05888847, -0.5287253 ,\n",
              "        -0.17153436],\n",
              "       [ 0.3242497 ,  0.33128896,  0.47699815, -0.24033374,  0.2451052 ,\n",
              "        -0.216605  ]], dtype=float32)"
            ]
          },
          "metadata": {
            "tags": []
          },
          "execution_count": 20
        }
      ]
    },
    {
      "cell_type": "code",
      "metadata": {
        "colab": {
          "base_uri": "https://localhost:8080/"
        },
        "id": "QVcOPhpsWXqR",
        "outputId": "9cca4f39-1313-4b65-e101-c17da2809006"
      },
      "source": [
        "U_f"
      ],
      "execution_count": null,
      "outputs": [
        {
          "output_type": "execute_result",
          "data": {
            "text/plain": [
              "array([[ 0.152912  ,  0.29828307,  0.02303267,  0.51701665,  0.11714055,\n",
              "         0.28597012],\n",
              "       [-0.06010849, -0.32457837, -0.02594543,  0.78425646,  0.36570913,\n",
              "         0.56691474],\n",
              "       [ 0.45670658,  0.16242516,  0.24472453,  0.892263  ,  0.26796126,\n",
              "         0.32629067],\n",
              "       [-0.14086631,  0.05668455, -0.14967345,  0.3328015 ,  0.09412439,\n",
              "        -0.18560551],\n",
              "       [-0.05179785,  0.06596725,  0.36228585,  0.80662477, -0.3879093 ,\n",
              "         0.6422003 ],\n",
              "       [ 0.19612427, -0.29327142, -0.34327984, -0.3233925 , -0.15101811,\n",
              "        -0.27542725]], dtype=float32)"
            ]
          },
          "metadata": {
            "tags": []
          },
          "execution_count": 22
        }
      ]
    },
    {
      "cell_type": "code",
      "metadata": {
        "colab": {
          "base_uri": "https://localhost:8080/"
        },
        "id": "lUMqmBrkW8Sj",
        "outputId": "e1b7c78f-2770-40c9-8e67-55d9816dadf0"
      },
      "source": [
        "U_c"
      ],
      "execution_count": null,
      "outputs": [
        {
          "output_type": "execute_result",
          "data": {
            "text/plain": [
              "array([[ 0.11026716,  0.08856466,  0.04818314,  0.02781696,  0.39896485,\n",
              "         0.47830802],\n",
              "       [-0.13257626,  0.24720939, -0.2814707 , -0.27605265, -0.00664346,\n",
              "         0.11076404],\n",
              "       [-0.20224829, -0.08882409,  0.04264521,  0.09701271,  0.08044518,\n",
              "         0.03940228],\n",
              "       [ 0.09651025, -0.2817023 ,  0.2108291 , -0.42411128, -0.13988619,\n",
              "         0.26753855],\n",
              "       [ 0.2104004 ,  0.05495498, -0.04786742, -0.1713926 , -0.10797973,\n",
              "         0.45043907],\n",
              "       [-0.09042989,  0.00583287,  0.05670656,  0.02972834, -0.0441694 ,\n",
              "        -0.40028527]], dtype=float32)"
            ]
          },
          "metadata": {
            "tags": []
          },
          "execution_count": 23
        }
      ]
    },
    {
      "cell_type": "code",
      "metadata": {
        "colab": {
          "base_uri": "https://localhost:8080/"
        },
        "id": "44m8_eQiW-JW",
        "outputId": "55937320-1561-4148-96a9-f189d0cf1c02"
      },
      "source": [
        "U_o"
      ],
      "execution_count": null,
      "outputs": [
        {
          "output_type": "execute_result",
          "data": {
            "text/plain": [
              "array([[-0.2666774 ,  0.1635744 , -0.33689687,  0.3445288 , -0.04023353,\n",
              "         0.08822043],\n",
              "       [-0.04519767, -0.18124023, -0.08618756,  0.11608209, -0.26067328,\n",
              "         0.21177353],\n",
              "       [-0.13439727, -0.3227265 , -0.07039521, -0.11614159,  0.04356614,\n",
              "        -0.15431303],\n",
              "       [ 0.01443293, -0.0379881 , -0.03200557, -0.11000181,  0.01599279,\n",
              "         0.35371447],\n",
              "       [ 0.05086971, -0.35767937, -0.12020548,  0.25278008,  0.0920123 ,\n",
              "        -0.06016919],\n",
              "       [-0.06365222, -0.35508528, -0.17764579,  0.19519174,  0.0324152 ,\n",
              "        -0.31940153]], dtype=float32)"
            ]
          },
          "metadata": {
            "tags": []
          },
          "execution_count": 24
        }
      ]
    },
    {
      "cell_type": "code",
      "metadata": {
        "id": "CL1yvFsEUwws"
      },
      "source": [
        "b_i = b[:units]\n",
        "b_f = b[units: units * 2]\n",
        "b_c = b[units * 2: units * 3]\n",
        "b_o = b[units * 3:]"
      ],
      "execution_count": null,
      "outputs": []
    },
    {
      "cell_type": "code",
      "metadata": {
        "colab": {
          "base_uri": "https://localhost:8080/"
        },
        "id": "0g-pEQvcW_z6",
        "outputId": "56924bdc-dbec-4647-bab0-9b572087b668"
      },
      "source": [
        "b_i"
      ],
      "execution_count": null,
      "outputs": [
        {
          "output_type": "execute_result",
          "data": {
            "text/plain": [
              "array([ 0.12958843,  0.1835923 ,  0.18896171, -0.10060093,  0.1968286 ,\n",
              "       -0.03255073], dtype=float32)"
            ]
          },
          "metadata": {
            "tags": []
          },
          "execution_count": 27
        }
      ]
    },
    {
      "cell_type": "code",
      "metadata": {
        "colab": {
          "base_uri": "https://localhost:8080/"
        },
        "id": "qxz-sRgvXBi3",
        "outputId": "3c5d8aee-91e2-4442-f963-3b977d588227"
      },
      "source": [
        "b_f"
      ],
      "execution_count": null,
      "outputs": [
        {
          "output_type": "execute_result",
          "data": {
            "text/plain": [
              "array([0.8847001 , 0.97543895, 0.98461336, 0.6880366 , 1.0335078 ,\n",
              "       0.73118734], dtype=float32)"
            ]
          },
          "metadata": {
            "tags": []
          },
          "execution_count": 28
        }
      ]
    },
    {
      "cell_type": "code",
      "metadata": {
        "colab": {
          "base_uri": "https://localhost:8080/"
        },
        "id": "0KXTBbeVXDcA",
        "outputId": "fb270ea1-6087-4c00-ea0a-59453aeb1201"
      },
      "source": [
        "b_c"
      ],
      "execution_count": null,
      "outputs": [
        {
          "output_type": "execute_result",
          "data": {
            "text/plain": [
              "array([ 0.01709065, -0.05297266,  0.02452675,  0.13550693, -0.01341165,\n",
              "       -0.11177707], dtype=float32)"
            ]
          },
          "metadata": {
            "tags": []
          },
          "execution_count": 29
        }
      ]
    },
    {
      "cell_type": "code",
      "metadata": {
        "colab": {
          "base_uri": "https://localhost:8080/"
        },
        "id": "1Jw_PS0EXE6T",
        "outputId": "817d171e-758a-46ba-ea70-a95374a50b2b"
      },
      "source": [
        "b_o"
      ],
      "execution_count": null,
      "outputs": [
        {
          "output_type": "execute_result",
          "data": {
            "text/plain": [
              "array([ 0.14269038,  0.15423408,  0.19387351, -0.1073921 ,  0.15550743,\n",
              "       -0.0254527 ], dtype=float32)"
            ]
          },
          "metadata": {
            "tags": []
          },
          "execution_count": 30
        }
      ]
    },
    {
      "cell_type": "code",
      "metadata": {
        "id": "vHmt0rGwVls9"
      },
      "source": [
        "for layer in model.layers:\n",
        "    weights = layer.get_weights() \n",
        "\n",
        "weights_ho = weights[0]     #this is hidden to output\n",
        "bias_ho = weights[1]"
      ],
      "execution_count": null,
      "outputs": []
    },
    {
      "cell_type": "code",
      "metadata": {
        "colab": {
          "base_uri": "https://localhost:8080/"
        },
        "id": "VpeKyuAiV6n2",
        "outputId": "73621c8b-7709-41b6-a5ac-a70e3197f84e"
      },
      "source": [
        "weights_ho"
      ],
      "execution_count": null,
      "outputs": [
        {
          "output_type": "execute_result",
          "data": {
            "text/plain": [
              "array([[-0.8656178 ],\n",
              "       [-0.7647438 ],\n",
              "       [-1.0905946 ],\n",
              "       [-0.1078948 ],\n",
              "       [-0.90518   ],\n",
              "       [ 0.15932369]], dtype=float32)"
            ]
          },
          "metadata": {
            "tags": []
          },
          "execution_count": 37
        }
      ]
    },
    {
      "cell_type": "code",
      "metadata": {
        "colab": {
          "base_uri": "https://localhost:8080/"
        },
        "id": "8ZDdXDe1V-W8",
        "outputId": "b284cd7d-cd4f-448f-a825-7745dba664c1"
      },
      "source": [
        "bias_ho"
      ],
      "execution_count": null,
      "outputs": [
        {
          "output_type": "execute_result",
          "data": {
            "text/plain": [
              "array([0.02800588], dtype=float32)"
            ]
          },
          "metadata": {
            "tags": []
          },
          "execution_count": 39
        }
      ]
    },
    {
      "cell_type": "code",
      "metadata": {
        "id": "755mGIqt9GlI"
      },
      "source": [
        "unseen = pd.read_excel('/content/gdrive/My Drive/Kuliah/Skripsi/CPO-bappebti-2.xlsx', parse_dates=['Tanggal'])\n",
        "unseen = unseen[unseen['Penyerahan'] == \"SPOT\"].reset_index(drop = True)\n",
        "unseen = unseen[[\"Tanggal\", \"Harga\"]]\n",
        "\n",
        "price_unseen = unseen.Harga.values.reshape(-1, 1)"
      ],
      "execution_count": null,
      "outputs": []
    },
    {
      "cell_type": "code",
      "metadata": {
        "id": "yBX5GcuG9Hiv"
      },
      "source": [
        "SEQ_LEN = 11\n",
        "SEQ = (8,9,10)\n",
        "\n",
        "scaler = MinMaxScaler()\n",
        "scaler = scaler.fit(price.reshape(-1,1))\n",
        "data_scaled = scaler.transform(price)\n",
        "data_scaled = to_sequences(data_scaled, SEQ_LEN)\n",
        "data_scaled = data_scaled[:,SEQ,:]\n",
        "\n",
        "X_data = data_scaled[:, :-1, :]\n",
        "Y_data = data_scaled[:, -1, :]"
      ],
      "execution_count": null,
      "outputs": []
    },
    {
      "cell_type": "code",
      "metadata": {
        "colab": {
          "base_uri": "https://localhost:8080/"
        },
        "id": "ZeL20Is89RnM",
        "outputId": "45fde59f-970a-49db-cae7-10b1a4ab3345"
      },
      "source": [
        "reset_random_seeds()\n",
        "\n",
        "WINDOW_SIZE = len(SEQ) - 1\n",
        "\n",
        "model_data = Sequential()\n",
        "model_data.add(LSTM(6, return_sequences=False, \n",
        "              input_shape=(WINDOW_SIZE, X_data.shape[-1])))\n",
        "model_data.add(Dense(1))\n",
        "\n",
        "opt = tf.optimizers.Adam(learning_rate=0.001)\n",
        "model_data.compile(\n",
        "    loss='mean_squared_error', \n",
        "    optimizer=opt\n",
        ")\n",
        "\n",
        "BATCH_SIZE = 32\n",
        "\n",
        "history_data = model_data.fit(\n",
        "    X_data, \n",
        "    Y_data, \n",
        "    epochs=200, \n",
        "    batch_size=BATCH_SIZE, \n",
        "    shuffle=False,\n",
        "    verbose=0\n",
        ")\n",
        "\n",
        "train_error = model_data.evaluate(X_data, Y_data)\n",
        "print('Best train error of epoch:', train_error)"
      ],
      "execution_count": null,
      "outputs": [
        {
          "output_type": "stream",
          "text": [
            "77/77 [==============================] - 0s 1ms/step - loss: 4.6819e-04\n",
            "Best train error of epoch: 0.00046819032286293805\n"
          ],
          "name": "stdout"
        }
      ]
    },
    {
      "cell_type": "code",
      "metadata": {
        "id": "ajgI5bsp9byo"
      },
      "source": [
        "n_input = SEQ_LEN - 1\n",
        "#SEQ = (5,6,7,8,9,10)\n",
        "n_features = 1\n",
        "\n",
        "test_predictions = []\n",
        "\n",
        "first_eval_batch = Y_data[-n_input:]\n",
        "\n",
        "current_batch_1 = first_eval_batch.reshape((1, n_input, n_features))\n",
        "current_batch_2 = current_batch_1[:,SEQ[:-1],:]\n",
        "\n",
        "for i in range(len(price_unseen)):\n",
        "\n",
        "  pred = model_data.predict(current_batch_2)[0]\n",
        "\n",
        "  test_predictions.append(pred)\n",
        "\n",
        "  current_batch_1 = np.append(current_batch_1[:,1:,:],\n",
        "                              [[pred]],\n",
        "                              axis=1)\n",
        "  current_batch_2 = current_batch_1[:,SEQ[:-1],:]"
      ],
      "execution_count": null,
      "outputs": []
    },
    {
      "cell_type": "code",
      "metadata": {
        "colab": {
          "base_uri": "https://localhost:8080/",
          "height": 1000
        },
        "id": "fzhUE7fb9wzU",
        "outputId": "a86b1d0f-4988-4785-e9be-17d05c3e9673"
      },
      "source": [
        "actual_predictions = scaler.inverse_transform(test_predictions)\n",
        "\n",
        "unseen['actual_predictions'] = actual_predictions\n",
        "unseen"
      ],
      "execution_count": null,
      "outputs": [
        {
          "output_type": "execute_result",
          "data": {
            "text/html": [
              "<div>\n",
              "<style scoped>\n",
              "    .dataframe tbody tr th:only-of-type {\n",
              "        vertical-align: middle;\n",
              "    }\n",
              "\n",
              "    .dataframe tbody tr th {\n",
              "        vertical-align: top;\n",
              "    }\n",
              "\n",
              "    .dataframe thead th {\n",
              "        text-align: right;\n",
              "    }\n",
              "</style>\n",
              "<table border=\"1\" class=\"dataframe\">\n",
              "  <thead>\n",
              "    <tr style=\"text-align: right;\">\n",
              "      <th></th>\n",
              "      <th>Tanggal</th>\n",
              "      <th>Harga</th>\n",
              "      <th>actual_predictions</th>\n",
              "    </tr>\n",
              "  </thead>\n",
              "  <tbody>\n",
              "    <tr>\n",
              "      <th>0</th>\n",
              "      <td>2021-01-05</td>\n",
              "      <td>14913</td>\n",
              "      <td>14198.682713</td>\n",
              "    </tr>\n",
              "    <tr>\n",
              "      <th>1</th>\n",
              "      <td>2021-01-06</td>\n",
              "      <td>15288</td>\n",
              "      <td>14300.335178</td>\n",
              "    </tr>\n",
              "    <tr>\n",
              "      <th>2</th>\n",
              "      <td>2021-01-07</td>\n",
              "      <td>15934</td>\n",
              "      <td>14301.935922</td>\n",
              "    </tr>\n",
              "    <tr>\n",
              "      <th>3</th>\n",
              "      <td>2021-01-08</td>\n",
              "      <td>15752</td>\n",
              "      <td>14332.805388</td>\n",
              "    </tr>\n",
              "    <tr>\n",
              "      <th>4</th>\n",
              "      <td>2021-01-11</td>\n",
              "      <td>15539</td>\n",
              "      <td>14354.043024</td>\n",
              "    </tr>\n",
              "    <tr>\n",
              "      <th>5</th>\n",
              "      <td>2021-01-12</td>\n",
              "      <td>15138</td>\n",
              "      <td>14377.337275</td>\n",
              "    </tr>\n",
              "    <tr>\n",
              "      <th>6</th>\n",
              "      <td>2021-01-13</td>\n",
              "      <td>14567</td>\n",
              "      <td>14399.188393</td>\n",
              "    </tr>\n",
              "    <tr>\n",
              "      <th>7</th>\n",
              "      <td>2021-01-14</td>\n",
              "      <td>14457</td>\n",
              "      <td>14420.655332</td>\n",
              "    </tr>\n",
              "    <tr>\n",
              "      <th>8</th>\n",
              "      <td>2021-01-15</td>\n",
              "      <td>14246</td>\n",
              "      <td>14441.432173</td>\n",
              "    </tr>\n",
              "    <tr>\n",
              "      <th>9</th>\n",
              "      <td>2021-01-18</td>\n",
              "      <td>13698</td>\n",
              "      <td>14461.619612</td>\n",
              "    </tr>\n",
              "    <tr>\n",
              "      <th>10</th>\n",
              "      <td>2021-01-19</td>\n",
              "      <td>13904</td>\n",
              "      <td>14481.197399</td>\n",
              "    </tr>\n",
              "    <tr>\n",
              "      <th>11</th>\n",
              "      <td>2021-01-20</td>\n",
              "      <td>13484</td>\n",
              "      <td>14500.186332</td>\n",
              "    </tr>\n",
              "    <tr>\n",
              "      <th>12</th>\n",
              "      <td>2021-01-21</td>\n",
              "      <td>13658</td>\n",
              "      <td>14518.591882</td>\n",
              "    </tr>\n",
              "    <tr>\n",
              "      <th>13</th>\n",
              "      <td>2021-01-22</td>\n",
              "      <td>13912</td>\n",
              "      <td>14536.426089</td>\n",
              "    </tr>\n",
              "    <tr>\n",
              "      <th>14</th>\n",
              "      <td>2021-01-26</td>\n",
              "      <td>14104</td>\n",
              "      <td>14553.700994</td>\n",
              "    </tr>\n",
              "    <tr>\n",
              "      <th>15</th>\n",
              "      <td>2021-01-27</td>\n",
              "      <td>14109</td>\n",
              "      <td>14570.424258</td>\n",
              "    </tr>\n",
              "    <tr>\n",
              "      <th>16</th>\n",
              "      <td>2021-01-28</td>\n",
              "      <td>14377</td>\n",
              "      <td>14586.610109</td>\n",
              "    </tr>\n",
              "    <tr>\n",
              "      <th>17</th>\n",
              "      <td>2021-01-29</td>\n",
              "      <td>14582</td>\n",
              "      <td>14602.268399</td>\n",
              "    </tr>\n",
              "    <tr>\n",
              "      <th>18</th>\n",
              "      <td>2021-02-01</td>\n",
              "      <td>14937</td>\n",
              "      <td>14617.411166</td>\n",
              "    </tr>\n",
              "    <tr>\n",
              "      <th>19</th>\n",
              "      <td>2021-02-02</td>\n",
              "      <td>14859</td>\n",
              "      <td>14632.049358</td>\n",
              "    </tr>\n",
              "    <tr>\n",
              "      <th>20</th>\n",
              "      <td>2021-02-03</td>\n",
              "      <td>14910</td>\n",
              "      <td>14646.196107</td>\n",
              "    </tr>\n",
              "    <tr>\n",
              "      <th>21</th>\n",
              "      <td>2021-02-04</td>\n",
              "      <td>14930</td>\n",
              "      <td>14659.863454</td>\n",
              "    </tr>\n",
              "    <tr>\n",
              "      <th>22</th>\n",
              "      <td>2021-02-05</td>\n",
              "      <td>15357</td>\n",
              "      <td>14673.062344</td>\n",
              "    </tr>\n",
              "    <tr>\n",
              "      <th>23</th>\n",
              "      <td>2021-02-08</td>\n",
              "      <td>15051</td>\n",
              "      <td>14685.805910</td>\n",
              "    </tr>\n",
              "    <tr>\n",
              "      <th>24</th>\n",
              "      <td>2021-02-09</td>\n",
              "      <td>15011</td>\n",
              "      <td>14698.105100</td>\n",
              "    </tr>\n",
              "    <tr>\n",
              "      <th>25</th>\n",
              "      <td>2021-02-10</td>\n",
              "      <td>15675</td>\n",
              "      <td>14709.973046</td>\n",
              "    </tr>\n",
              "    <tr>\n",
              "      <th>26</th>\n",
              "      <td>2021-02-11</td>\n",
              "      <td>14705</td>\n",
              "      <td>14721.421788</td>\n",
              "    </tr>\n",
              "    <tr>\n",
              "      <th>27</th>\n",
              "      <td>2021-02-12</td>\n",
              "      <td>14864</td>\n",
              "      <td>14732.462272</td>\n",
              "    </tr>\n",
              "    <tr>\n",
              "      <th>28</th>\n",
              "      <td>2021-02-15</td>\n",
              "      <td>15943</td>\n",
              "      <td>14743.106538</td>\n",
              "    </tr>\n",
              "    <tr>\n",
              "      <th>29</th>\n",
              "      <td>2021-02-16</td>\n",
              "      <td>16177</td>\n",
              "      <td>14753.364437</td>\n",
              "    </tr>\n",
              "    <tr>\n",
              "      <th>30</th>\n",
              "      <td>2021-02-17</td>\n",
              "      <td>15509</td>\n",
              "      <td>14763.250196</td>\n",
              "    </tr>\n",
              "    <tr>\n",
              "      <th>31</th>\n",
              "      <td>2021-02-18</td>\n",
              "      <td>15713</td>\n",
              "      <td>14772.774762</td>\n",
              "    </tr>\n",
              "    <tr>\n",
              "      <th>32</th>\n",
              "      <td>2021-02-19</td>\n",
              "      <td>15502</td>\n",
              "      <td>14781.947984</td>\n",
              "    </tr>\n",
              "    <tr>\n",
              "      <th>33</th>\n",
              "      <td>2021-02-22</td>\n",
              "      <td>15717</td>\n",
              "      <td>14790.781904</td>\n",
              "    </tr>\n",
              "    <tr>\n",
              "      <th>34</th>\n",
              "      <td>2021-02-23</td>\n",
              "      <td>15587</td>\n",
              "      <td>14799.286372</td>\n",
              "    </tr>\n",
              "    <tr>\n",
              "      <th>35</th>\n",
              "      <td>2021-02-24</td>\n",
              "      <td>15947</td>\n",
              "      <td>14807.472332</td>\n",
              "    </tr>\n",
              "    <tr>\n",
              "      <th>36</th>\n",
              "      <td>2021-02-25</td>\n",
              "      <td>15803</td>\n",
              "      <td>14815.350730</td>\n",
              "    </tr>\n",
              "    <tr>\n",
              "      <th>37</th>\n",
              "      <td>2021-02-26</td>\n",
              "      <td>15943</td>\n",
              "      <td>14822.929229</td>\n",
              "    </tr>\n",
              "  </tbody>\n",
              "</table>\n",
              "</div>"
            ],
            "text/plain": [
              "      Tanggal  Harga  actual_predictions\n",
              "0  2021-01-05  14913        14198.682713\n",
              "1  2021-01-06  15288        14300.335178\n",
              "2  2021-01-07  15934        14301.935922\n",
              "3  2021-01-08  15752        14332.805388\n",
              "4  2021-01-11  15539        14354.043024\n",
              "5  2021-01-12  15138        14377.337275\n",
              "6  2021-01-13  14567        14399.188393\n",
              "7  2021-01-14  14457        14420.655332\n",
              "8  2021-01-15  14246        14441.432173\n",
              "9  2021-01-18  13698        14461.619612\n",
              "10 2021-01-19  13904        14481.197399\n",
              "11 2021-01-20  13484        14500.186332\n",
              "12 2021-01-21  13658        14518.591882\n",
              "13 2021-01-22  13912        14536.426089\n",
              "14 2021-01-26  14104        14553.700994\n",
              "15 2021-01-27  14109        14570.424258\n",
              "16 2021-01-28  14377        14586.610109\n",
              "17 2021-01-29  14582        14602.268399\n",
              "18 2021-02-01  14937        14617.411166\n",
              "19 2021-02-02  14859        14632.049358\n",
              "20 2021-02-03  14910        14646.196107\n",
              "21 2021-02-04  14930        14659.863454\n",
              "22 2021-02-05  15357        14673.062344\n",
              "23 2021-02-08  15051        14685.805910\n",
              "24 2021-02-09  15011        14698.105100\n",
              "25 2021-02-10  15675        14709.973046\n",
              "26 2021-02-11  14705        14721.421788\n",
              "27 2021-02-12  14864        14732.462272\n",
              "28 2021-02-15  15943        14743.106538\n",
              "29 2021-02-16  16177        14753.364437\n",
              "30 2021-02-17  15509        14763.250196\n",
              "31 2021-02-18  15713        14772.774762\n",
              "32 2021-02-19  15502        14781.947984\n",
              "33 2021-02-22  15717        14790.781904\n",
              "34 2021-02-23  15587        14799.286372\n",
              "35 2021-02-24  15947        14807.472332\n",
              "36 2021-02-25  15803        14815.350730\n",
              "37 2021-02-26  15943        14822.929229"
            ]
          },
          "metadata": {
            "tags": []
          },
          "execution_count": 195
        }
      ]
    },
    {
      "cell_type": "code",
      "metadata": {
        "colab": {
          "base_uri": "https://localhost:8080/"
        },
        "id": "vUwIATiKkPLu",
        "outputId": "5bdf81aa-6d60-4289-9823-2a1f0c9dc16f"
      },
      "source": [
        "RMSEDataTesting = rmse(actual_predictions[:18], price_unseen[:18])\n",
        "print(\"Nilai RMSE yang dihasilkan sebesar = {}\".format(RMSEDataTesting))"
      ],
      "execution_count": null,
      "outputs": [
        {
          "output_type": "stream",
          "text": [
            "Nilai RMSE yang dihasilkan sebesar = 808.0431431659966\n"
          ],
          "name": "stdout"
        }
      ]
    },
    {
      "cell_type": "code",
      "metadata": {
        "colab": {
          "base_uri": "https://localhost:8080/"
        },
        "id": "qpKvs9WSkPMS",
        "outputId": "1292fd2e-0f6a-42a5-fe6b-b77dc24b3c98"
      },
      "source": [
        "MAPEDataTesting = mape(price_unseen[:18], actual_predictions[:18])\n",
        "print(\"Nilai MAPE yang dihasilkan sebesar = {}%\".format(MAPEDataTesting))"
      ],
      "execution_count": null,
      "outputs": [
        {
          "output_type": "stream",
          "text": [
            "Nilai MAPE yang dihasilkan sebesar = 4.557545276312231%\n"
          ],
          "name": "stdout"
        }
      ]
    },
    {
      "cell_type": "code",
      "metadata": {
        "id": "qTSp69KICQvs"
      },
      "source": [
        ""
      ],
      "execution_count": null,
      "outputs": []
    },
    {
      "cell_type": "code",
      "metadata": {
        "colab": {
          "base_uri": "https://localhost:8080/"
        },
        "id": "ahagD_PCi9KT",
        "outputId": "abd4f3f1-ae9a-4133-8ce5-ebeb63bf9f0b"
      },
      "source": [
        "SEQ_LEN = 11\n",
        "SEQ = (7,8,9,10) #default\n",
        "train_split = 0.7\n",
        "\n",
        "price = df.Harga.values.reshape(-1, 1)\n",
        "data = to_sequences(price, SEQ_LEN)\n",
        "num_train = int(train_split * data.shape[0])\n",
        "train = data[:num_train, :, :]\n",
        "\n",
        "scaler = MinMaxScaler()\n",
        "scaler = scaler.fit(train.reshape(-1,1))\n",
        "\n",
        "data_scaled = scaler.transform(price)\n",
        "data_scaled = to_sequences(data_scaled, SEQ_LEN)\n",
        "data_scaled = data_scaled[:,SEQ,:]\n",
        "\n",
        "train_scaled = data_scaled[:num_train, :, :]\n",
        "test_scaled = data_scaled[num_train:, :, :]\n",
        "\n",
        "X_train = train_scaled[:, :-1, :]\n",
        "Y_train = train_scaled[:, -1, :]\n",
        "X_test = test_scaled[:, :-1, :]\n",
        "Y_test = test_scaled[:, -1, :]\n",
        "\n",
        "MSETrain_all=[]\n",
        "\n",
        "WINDOW_SIZE = len(SEQ) - 1\n",
        "opt = tf.optimizers.RMSprop(learning_rate=0.001)\n",
        "#units=np.arange(3,9)\n",
        "#units=np.arange(6,7)\n",
        "repeats = 10\n",
        "for r in range(repeats):\n",
        "    model = Sequential()\n",
        "    model.add(LSTM(3, return_sequences=False, \n",
        "              input_shape=(WINDOW_SIZE, X_train.shape[-1])))\n",
        "    model.add(Dense(1))\n",
        "    \n",
        "    model.compile(\n",
        "        loss='mean_squared_error', \n",
        "        optimizer=opt\n",
        "    )\n",
        "    \n",
        "    model.fit(\n",
        "        X_train, \n",
        "        Y_train, \n",
        "        epochs=200, \n",
        "        batch_size=32,\n",
        "        shuffle=False,\n",
        "        verbose=0\n",
        "    )\n",
        "        \n",
        "    y_hatTrain = model.predict(X_train)\n",
        "    y_train_inverse = scaler.inverse_transform(Y_train)\n",
        "        \n",
        "    y_hatTrain_inverse = scaler.inverse_transform(y_hatTrain)\n",
        "        \n",
        "    MSEDataTraining = mse(y_hatTrain_inverse, y_train_inverse)\n",
        "        \n",
        "    MSETrain_all.append(MSEDataTraining)\n",
        "\n",
        "print(\"Nilai MSE Train All\")\n",
        "for v in MSETrain_all:\n",
        "    print(v)"
      ],
      "execution_count": null,
      "outputs": [
        {
          "output_type": "stream",
          "text": [
            "Nilai MSE Train All\n",
            "35333.977120591015\n",
            "33182.785713216465\n",
            "32930.30511151045\n",
            "33185.089368284825\n",
            "32991.50896863912\n",
            "33523.0217377808\n",
            "35253.291604142745\n",
            "33300.85305973178\n",
            "32397.951663770535\n",
            "33285.392852134384\n"
          ],
          "name": "stdout"
        }
      ]
    }
  ]
}