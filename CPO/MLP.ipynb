{
  "nbformat": 4,
  "nbformat_minor": 0,
  "metadata": {
    "colab": {
      "name": "MLP Try 4.ipynb",
      "provenance": [],
      "collapsed_sections": [],
      "toc_visible": true
    },
    "kernelspec": {
      "name": "python3",
      "display_name": "Python 3"
    },
    "language_info": {
      "name": "python"
    }
  },
  "cells": [
    {
      "cell_type": "markdown",
      "metadata": {
        "id": "vBAHZew0BUsJ"
      },
      "source": [
        "# Import package"
      ]
    },
    {
      "cell_type": "code",
      "metadata": {
        "id": "S2HGEzrWEB5S"
      },
      "source": [
        "import os\n",
        "os.environ['PYTHONHASHSEED']=str(100)\n",
        " \n",
        "import random\n",
        "import numpy as np\n",
        "import pandas as pd\n",
        "import tensorflow as tf\n",
        "import seaborn as sns\n",
        "import matplotlib.pyplot as plt\n",
        "import warnings\n",
        "from pylab import rcParams\n",
        "from sklearn.preprocessing import MinMaxScaler\n",
        "from tensorflow.keras.layers import Dropout, Activation, Dense\n",
        "from tensorflow.keras.models import Sequential\n",
        "from tensorflow.keras.utils import plot_model\n",
        " \n",
        "%matplotlib inline\n",
        " \n",
        "sns.set()\n",
        " \n",
        "warnings.filterwarnings(\"ignore\")\n",
        " \n",
        "plt.style.use('ggplot')\n",
        "plt.rc('xtick', labelsize=15) \n",
        "plt.rc('ytick', labelsize=15) \n",
        " \n",
        "def reset_random_seeds():\n",
        "   os.environ['PYTHONHASHSEED']=str(100)\n",
        "   tf.random.set_seed(100)\n",
        "   np.random.seed(100)\n",
        "   random.seed(100)"
      ],
      "execution_count": 2,
      "outputs": []
    },
    {
      "cell_type": "code",
      "metadata": {
        "colab": {
          "base_uri": "https://localhost:8080/"
        },
        "id": "Kj--UOWuFAgm",
        "outputId": "e4a40242-4422-4182-eaec-99c67c3a5d12"
      },
      "source": [
        "from google.colab import drive\n",
        "drive.mount(\"/content/gdrive\")"
      ],
      "execution_count": 3,
      "outputs": [
        {
          "output_type": "stream",
          "name": "stdout",
          "text": [
            "Mounted at /content/gdrive\n"
          ]
        }
      ]
    },
    {
      "cell_type": "markdown",
      "metadata": {
        "id": "ZaFsdA5cBjn9"
      },
      "source": [
        "# Load file"
      ]
    },
    {
      "cell_type": "code",
      "metadata": {
        "id": "WT94ejPmFVnZ"
      },
      "source": [
        "df = pd.read_csv('/content/gdrive/My Drive/Kuliah/Skripsi/CPO-bappebti.csv', parse_dates=['Tanggal'])\n",
        "df = df[df['Penyerahan'] == \"SPOT\"].reset_index(drop = True)\n",
        "df = df[[\"Tanggal\", \"Harga\"]]\n",
        "\n",
        "price = df.Harga.values.reshape(-1, 1)"
      ],
      "execution_count": 4,
      "outputs": []
    },
    {
      "cell_type": "code",
      "metadata": {
        "id": "Ko3xyW21cxmP"
      },
      "source": [
        "#df.to_excel(r'/content/gdrive/My Drive/Kuliah/Skripsi/CPO-bappebti.xlsx', index = False)"
      ],
      "execution_count": null,
      "outputs": []
    },
    {
      "cell_type": "markdown",
      "metadata": {
        "id": "bgSsQ2FHBrsX"
      },
      "source": [
        "# PACF"
      ]
    },
    {
      "cell_type": "markdown",
      "metadata": {
        "id": "Wj-PcHNjBu9Y"
      },
      "source": [
        "## All data"
      ]
    },
    {
      "cell_type": "code",
      "metadata": {
        "colab": {
          "base_uri": "https://localhost:8080/",
          "height": 507
        },
        "id": "elUwX2owAoAe",
        "outputId": "ba20652f-7cf6-4ac8-8f51-88bd21b0e296"
      },
      "source": [
        "from matplotlib.collections import PolyCollection, LineCollection\n",
        "from statsmodels.graphics.tsaplots import plot_pacf\n",
        "\n",
        "curr_fig, curr_ax = plt.subplots(figsize=(14, 8))\n",
        "\n",
        "plot_pacf(price, method=\"ywm\", lags=15,ax=curr_ax)\n",
        "\n",
        "for item in curr_ax.collections:\n",
        "    #change the color of the CI \n",
        "    if type(item)==PolyCollection:\n",
        "        item.set_facecolor(\"#4287f5\")\n",
        "    #change the color of the vertical lines\n",
        "    if type(item)==LineCollection:\n",
        "        item.set_color(\"black\")    \n",
        "\n",
        "#change the color of the markers/horizontal line\n",
        "for item in curr_ax.lines:\n",
        "    item.set_color(\"#4287f5\")\n",
        "\n",
        "plt.show()"
      ],
      "execution_count": 6,
      "outputs": [
        {
          "output_type": "display_data",
          "data": {
            "image/png": "[encoded data removed]",
            "text/plain": [
              "<Figure size 1008x576 with 1 Axes>"
            ]
          },
          "metadata": {}
        }
      ]
    },
    {
      "cell_type": "code",
      "metadata": {
        "colab": {
          "base_uri": "https://localhost:8080/"
        },
        "id": "v2fmFJ41AsoR",
        "outputId": "dce6a459-3df7-4edd-d569-6b3e9535dfeb"
      },
      "source": [
        "from statsmodels.tsa.stattools import acf, pacf\n",
        "\n",
        "pacf_p = pacf(price, method=\"ywm\")\n",
        "pacf_p"
      ],
      "execution_count": 7,
      "outputs": [
        {
          "output_type": "execute_result",
          "data": {
            "text/plain": [
              "array([ 1.        ,  0.98127428,  0.19953022,  0.04514618,  0.01615032,\n",
              "        0.00223357, -0.00762896, -0.03212051, -0.03353157, -0.00157871,\n",
              "       -0.04724234, -0.07281528,  0.01946892,  0.02118141,  0.01510836,\n",
              "       -0.01897274,  0.0413015 , -0.02243491, -0.01785688, -0.04516564,\n",
              "       -0.01384831,  0.01390231, -0.01051795, -0.00536158, -0.01965965,\n",
              "        0.00750464,  0.03958263,  0.00423953,  0.02215697, -0.01725288,\n",
              "       -0.00988067, -0.01895588, -0.03277654,  0.02200037, -0.00921009,\n",
              "        0.01780401,  0.00272609,  0.00842734, -0.0162083 , -0.0015195 ,\n",
              "       -0.02172579])"
            ]
          },
          "metadata": {},
          "execution_count": 7
        }
      ]
    },
    {
      "cell_type": "code",
      "metadata": {
        "colab": {
          "base_uri": "https://localhost:8080/"
        },
        "id": "SgN7LWgea7h4",
        "outputId": "9c8eff4d-cce8-417f-ab64-58ef60c5b153"
      },
      "source": [
        "acf_p = acf(price)\n",
        "acf_p"
      ],
      "execution_count": 8,
      "outputs": [
        {
          "output_type": "execute_result",
          "data": {
            "text/plain": [
              "array([1.        , 0.98127428, 0.97030194, 0.95955531, 0.9491394 ,\n",
              "       0.93874382, 0.92818162, 0.91671511, 0.90467611, 0.89320407,\n",
              "       0.88018477, 0.86547819, 0.85269267, 0.84039898, 0.82847102,\n",
              "       0.81575253, 0.80482501, 0.79243012, 0.7800423 , 0.7664994 ,\n",
              "       0.75318248, 0.74077294, 0.72820782, 0.71579303, 0.7026981 ,\n",
              "       0.69031669, 0.67940105, 0.66796067, 0.6573647 , 0.64585529,\n",
              "       0.63473796, 0.62326383, 0.61123935, 0.60055943, 0.58942795,\n",
              "       0.5794024 , 0.56923462, 0.55938087, 0.54885633, 0.53870453,\n",
              "       0.52792848])"
            ]
          },
          "metadata": {},
          "execution_count": 8
        }
      ]
    },
    {
      "cell_type": "code",
      "metadata": {
        "colab": {
          "base_uri": "https://localhost:8080/"
        },
        "id": "cpIn2exOB9xi",
        "outputId": "90794814-12fd-4e96-e74e-4d1ef5aec862"
      },
      "source": [
        "batas = 2/np.sqrt(2467)\n",
        "batas"
      ],
      "execution_count": 9,
      "outputs": [
        {
          "output_type": "execute_result",
          "data": {
            "text/plain": [
              "0.040266642685651055"
            ]
          },
          "metadata": {},
          "execution_count": 9
        }
      ]
    },
    {
      "cell_type": "markdown",
      "metadata": {
        "id": "gt4w3xDjB1NA"
      },
      "source": [
        "## 70-30"
      ]
    },
    {
      "cell_type": "code",
      "metadata": {
        "colab": {
          "base_uri": "https://localhost:8080/",
          "height": 507
        },
        "id": "LTL338pT_TcQ",
        "outputId": "efbd0284-a49f-4658-d684-a0852b715835"
      },
      "source": [
        "curr_fig, curr_ax = plt.subplots(figsize=(14, 8))\n",
        "\n",
        "plot_pacf(price[:1718+12], method=\"ywm\", lags=15,ax=curr_ax)\n",
        "\n",
        "for item in curr_ax.collections:\n",
        "    #change the color of the CI \n",
        "    if type(item)==PolyCollection:\n",
        "        item.set_facecolor(\"#4287f5\")\n",
        "    #change the color of the vertical lines\n",
        "    if type(item)==LineCollection:\n",
        "        item.set_color(\"black\")    \n",
        "\n",
        "#change the color of the markers/horizontal line\n",
        "for item in curr_ax.lines:\n",
        "    item.set_color(\"#4287f5\")\n",
        "\n",
        "plt.show()"
      ],
      "execution_count": 10,
      "outputs": [
        {
          "output_type": "display_data",
          "data": {
            "image/png": "[encoded data removed]",
            "text/plain": [
              "<Figure size 1008x576 with 1 Axes>"
            ]
          },
          "metadata": {}
        }
      ]
    },
    {
      "cell_type": "code",
      "metadata": {
        "colab": {
          "base_uri": "https://localhost:8080/"
        },
        "id": "kBEWiGWaDn5C",
        "outputId": "82708ac0-f769-4499-b214-572f10dbdd88"
      },
      "source": [
        "pacf(price[:1718+12], method=\"ywm\")"
      ],
      "execution_count": 11,
      "outputs": [
        {
          "output_type": "execute_result",
          "data": {
            "text/plain": [
              "array([ 1.        ,  0.9839491 ,  0.2500717 ,  0.06897732, -0.0098234 ,\n",
              "       -0.01362257,  0.01501536, -0.04013037, -0.05170466, -0.01789171,\n",
              "       -0.00102689, -0.03815652, -0.01544776,  0.02439618,  0.00639158,\n",
              "       -0.04274255,  0.02280167,  0.01220739, -0.02763254, -0.05222543,\n",
              "       -0.00311043,  0.00653666,  0.00743794, -0.02678852,  0.00550342,\n",
              "        0.0156236 ,  0.02156592,  0.06274918,  0.02521033, -0.05580252,\n",
              "        0.0402659 , -0.03328695, -0.03355111,  0.01135734, -0.01529149,\n",
              "        0.03912339, -0.00770641,  0.00232131, -0.0102254 , -0.03261872,\n",
              "        0.01080689])"
            ]
          },
          "metadata": {},
          "execution_count": 11
        }
      ]
    },
    {
      "cell_type": "code",
      "metadata": {
        "colab": {
          "base_uri": "https://localhost:8080/"
        },
        "id": "E49KhiydDu-f",
        "outputId": "2ec0354a-99ba-4e85-a2f7-d1e2d60e610d"
      },
      "source": [
        "2/np.sqrt(1730)"
      ],
      "execution_count": 12,
      "outputs": [
        {
          "output_type": "execute_result",
          "data": {
            "text/plain": [
              "0.048084703683434496"
            ]
          },
          "metadata": {},
          "execution_count": 12
        }
      ]
    },
    {
      "cell_type": "markdown",
      "metadata": {
        "id": "Lv95bsOrB4Tz"
      },
      "source": [
        "## 75-35"
      ]
    },
    {
      "cell_type": "code",
      "metadata": {
        "colab": {
          "base_uri": "https://localhost:8080/",
          "height": 507
        },
        "id": "y-oID3KhAmFH",
        "outputId": "270f0ae6-5cb6-4714-a0ea-6feb910a2ec7"
      },
      "source": [
        "curr_fig, curr_ax = plt.subplots(figsize=(14, 8))\n",
        "\n",
        "plot_pacf(price[:1841+12], method=\"ywm\", lags=15,ax=curr_ax)\n",
        "\n",
        "for item in curr_ax.collections:\n",
        "    #change the color of the CI \n",
        "    if type(item)==PolyCollection:\n",
        "        item.set_facecolor(\"#4287f5\")\n",
        "    #change the color of the vertical lines\n",
        "    if type(item)==LineCollection:\n",
        "        item.set_color(\"black\")    \n",
        "\n",
        "#change the color of the markers/horizontal line\n",
        "for item in curr_ax.lines:\n",
        "    item.set_color(\"#4287f5\")\n",
        "\n",
        "plt.show()"
      ],
      "execution_count": 13,
      "outputs": [
        {
          "output_type": "display_data",
          "data": {
            "image/png": "[encoded data removed]",
            "text/plain": [
              "<Figure size 1008x576 with 1 Axes>"
            ]
          },
          "metadata": {}
        }
      ]
    },
    {
      "cell_type": "code",
      "metadata": {
        "colab": {
          "base_uri": "https://localhost:8080/"
        },
        "id": "kxC2nJSXEJTd",
        "outputId": "6fa3f161-0c24-4418-8e26-b69e93f3b3aa"
      },
      "source": [
        "pacf(price[:1841+12], method=\"ywm\")"
      ],
      "execution_count": 14,
      "outputs": [
        {
          "output_type": "execute_result",
          "data": {
            "text/plain": [
              "array([ 1.00000000e+00,  9.82576885e-01,  2.47960358e-01,  6.93577854e-02,\n",
              "       -5.26421586e-03,  6.40475680e-04,  6.02781684e-03, -4.06463534e-02,\n",
              "       -4.18915046e-02, -8.40514959e-03, -6.35304219e-03, -3.43346346e-02,\n",
              "       -1.80867666e-02,  2.78500522e-02,  1.41525037e-02, -4.14831407e-02,\n",
              "        2.33427567e-02,  7.95094589e-03, -1.69090300e-02, -5.26778339e-02,\n",
              "        4.09122987e-03,  5.13827618e-04, -7.40061047e-03, -1.65573623e-02,\n",
              "       -3.58790516e-03,  3.26999280e-02,  1.86799160e-02,  6.01419712e-02,\n",
              "        2.78190807e-02, -5.55659074e-02,  3.99488790e-02, -3.04837366e-02,\n",
              "       -2.60049781e-02,  1.26702678e-02, -5.66493161e-03,  3.49451035e-02,\n",
              "       -6.25047350e-03,  5.54312530e-04, -1.76859894e-02, -1.29573344e-02,\n",
              "        8.50655499e-03])"
            ]
          },
          "metadata": {},
          "execution_count": 14
        }
      ]
    },
    {
      "cell_type": "code",
      "metadata": {
        "colab": {
          "base_uri": "https://localhost:8080/"
        },
        "id": "bilQOTd7EJTf",
        "outputId": "1aaa017c-90cd-4aab-fb46-24736d631b7a"
      },
      "source": [
        "2/np.sqrt(1853)"
      ],
      "execution_count": 15,
      "outputs": [
        {
          "output_type": "execute_result",
          "data": {
            "text/plain": [
              "0.04646139935246818"
            ]
          },
          "metadata": {},
          "execution_count": 15
        }
      ]
    },
    {
      "cell_type": "markdown",
      "metadata": {
        "id": "SJ5Tnne8B6Z3"
      },
      "source": [
        "## 80-20"
      ]
    },
    {
      "cell_type": "code",
      "metadata": {
        "colab": {
          "base_uri": "https://localhost:8080/",
          "height": 507
        },
        "id": "UFd8XwXCAtsq",
        "outputId": "37fe0822-c0b2-4ff2-9521-5ad0044c4035"
      },
      "source": [
        "curr_fig, curr_ax = plt.subplots(figsize=(14, 8))\n",
        "\n",
        "plot_pacf(price[:1963+12], method=\"ywm\", lags=15,ax=curr_ax)\n",
        "\n",
        "for item in curr_ax.collections:\n",
        "    #change the color of the CI \n",
        "    if type(item)==PolyCollection:\n",
        "        item.set_facecolor(\"#4287f5\")\n",
        "    #change the color of the vertical lines\n",
        "    if type(item)==LineCollection:\n",
        "        item.set_color(\"black\")    \n",
        "\n",
        "#change the color of the markers/horizontal line\n",
        "for item in curr_ax.lines:\n",
        "    item.set_color(\"#4287f5\")\n",
        "\n",
        "plt.show()"
      ],
      "execution_count": 16,
      "outputs": [
        {
          "output_type": "display_data",
          "data": {
            "image/png": "[encoded data removed]",
            "text/plain": [
              "<Figure size 1008x576 with 1 Axes>"
            ]
          },
          "metadata": {}
        }
      ]
    },
    {
      "cell_type": "code",
      "metadata": {
        "colab": {
          "base_uri": "https://localhost:8080/"
        },
        "id": "-d3wwN_wE0dN",
        "outputId": "4c693704-f350-4236-fef8-85af8e5043de"
      },
      "source": [
        "pacf(price[:1963+12], method=\"ywm\")"
      ],
      "execution_count": 17,
      "outputs": [
        {
          "output_type": "execute_result",
          "data": {
            "text/plain": [
              "array([ 1.00000000e+00,  9.82085819e-01,  2.49012804e-01,  6.85031531e-02,\n",
              "       -5.90777846e-04,  7.31114266e-04,  1.61756638e-03, -3.38458267e-02,\n",
              "       -4.13337890e-02, -1.91400345e-03, -7.99979351e-03, -3.82435259e-02,\n",
              "       -1.41895807e-02,  3.07175155e-02,  1.63149687e-02, -4.54693047e-02,\n",
              "        2.25349265e-02,  1.34371429e-02, -1.50288682e-02, -4.60669008e-02,\n",
              "       -7.55697890e-03, -4.14842825e-03, -3.73217448e-03, -2.10788421e-02,\n",
              "       -5.56525203e-03,  2.46680427e-02,  1.55744984e-02,  6.21448668e-02,\n",
              "        3.26221269e-02, -4.56192673e-02,  3.76944159e-02, -2.65201520e-02,\n",
              "       -2.56499578e-02,  8.05902123e-03, -7.34665048e-03,  2.96080902e-02,\n",
              "       -9.46964625e-03, -4.44131283e-03, -1.53980425e-02, -1.15962722e-02,\n",
              "        5.75400250e-03])"
            ]
          },
          "metadata": {},
          "execution_count": 17
        }
      ]
    },
    {
      "cell_type": "code",
      "metadata": {
        "colab": {
          "base_uri": "https://localhost:8080/"
        },
        "id": "dP_AkaqaE5G8",
        "outputId": "f808ec0a-ca89-4cc4-9b4f-6603bb369abd"
      },
      "source": [
        "2/np.sqrt(1975)"
      ],
      "execution_count": 18,
      "outputs": [
        {
          "output_type": "execute_result",
          "data": {
            "text/plain": [
              "0.045003516037040954"
            ]
          },
          "metadata": {},
          "execution_count": 18
        }
      ]
    },
    {
      "cell_type": "markdown",
      "metadata": {
        "id": "cSEbvCUqB_OB"
      },
      "source": [
        "# Analysis"
      ]
    },
    {
      "cell_type": "code",
      "metadata": {
        "id": "zooPWhoZFuDM"
      },
      "source": [
        "def to_sequences(data, seq_len):\n",
        "    d = []\n",
        "\n",
        "    for index in range(len(data) - (seq_len-1)): # seq_len diganti jadi (seq_len-1)\n",
        "        d.append(data[index: index + seq_len])\n",
        "\n",
        "    return np.array(d)\n",
        "\n",
        "def mse(predictions, targets):\n",
        "    return ((predictions - targets) ** 2).mean()\n",
        "\n",
        "def mape(actual, pred): \n",
        "    actual, pred = np.array(actual), np.array(pred)\n",
        "    return np.mean(np.abs((actual - pred) / actual)) * 100"
      ],
      "execution_count": null,
      "outputs": []
    },
    {
      "cell_type": "code",
      "metadata": {
        "id": "fU0FvYFeGBee"
      },
      "source": [
        "SEQ_LEN = 12\n",
        "SEQ = (9,10,11) #default\n",
        "\n",
        "data = to_sequences(price, SEQ_LEN)\n",
        "data = data.reshape(data.shape[0], SEQ_LEN)\n",
        "data = data[:,SEQ]\n",
        "\n",
        "train_split = 0.7\n",
        "\n",
        "num_train = int(train_split * data.shape[0])\n",
        "\n",
        "train = data[:num_train, :]\n",
        "test = data[num_train:, :]\n",
        "\n",
        "#tanggal_train = df[\"Tanggal\"][11:1718+12].reset_index(drop = True) #70-30\n",
        "#tanggal_test = df[\"Tanggal\"][1718+12:].reset_index(drop = True)\n",
        "#tanggal_train = df[\"Tanggal\"][11:1841+12].reset_index(drop = True) #75-25\n",
        "#tanggal_test = df[\"Tanggal\"][1841+12:].reset_index(drop = True)\n",
        "#tanggal_train = df[\"Tanggal\"][11:1963+12].reset_index(drop = True) #80-30\n",
        "#tanggal_test = df[\"Tanggal\"][1963+12:].reset_index(drop = True)"
      ],
      "execution_count": null,
      "outputs": []
    },
    {
      "cell_type": "code",
      "metadata": {
        "colab": {
          "base_uri": "https://localhost:8080/"
        },
        "id": "DA935WrBrrz0",
        "outputId": "ecf304a4-4fd1-403a-988b-5c4d180fad4a"
      },
      "source": [
        "train.shape"
      ],
      "execution_count": null,
      "outputs": [
        {
          "output_type": "execute_result",
          "data": {
            "text/plain": [
              "(1719, 3)"
            ]
          },
          "metadata": {
            "tags": []
          },
          "execution_count": 18
        }
      ]
    },
    {
      "cell_type": "code",
      "metadata": {
        "id": "0xCbqRVoGOZR"
      },
      "source": [
        "scaler = MinMaxScaler()\n",
        "scaler = scaler.fit(train.reshape(-1,1))\n",
        "\n",
        "train_scaled = scaler.transform(train)\n",
        "test_scaled = scaler.transform(test)\n",
        "\n",
        "X_train = train_scaled[:, :-1]\n",
        "Y_train = train_scaled[:, -1].reshape(-1, 1)\n",
        "X_test = test_scaled[:, :-1]\n",
        "Y_test = test_scaled[:, -1].reshape(-1, 1)"
      ],
      "execution_count": null,
      "outputs": []
    },
    {
      "cell_type": "code",
      "metadata": {
        "id": "sfcbjLrkGS1m",
        "colab": {
          "base_uri": "https://localhost:8080/"
        },
        "outputId": "18d660d0-67dc-4b2c-b711-50dcda381e7d"
      },
      "source": [
        "#reset_random_seeds()\n",
        "\n",
        "model_mlp = Sequential()\n",
        "model_mlp.add(Dense(8, activation='relu', input_dim=X_train.shape[1]))\n",
        "model_mlp.add(Dense(1))\n",
        "\n",
        "opt = tf.optimizers.RMSprop(learning_rate=0.001)\n",
        "model_mlp.compile(\n",
        "    loss='mean_squared_error', \n",
        "    optimizer=opt\n",
        ")\n",
        "\n",
        "BATCH_SIZE = 64\n",
        "\n",
        "history = model_mlp.fit(\n",
        "    X_train, \n",
        "    Y_train, \n",
        "    epochs=200, \n",
        "    batch_size=BATCH_SIZE, \n",
        "    shuffle=False,\n",
        "    verbose=0\n",
        "    )\n",
        "\n",
        "y_hatTrain = model_mlp.predict(X_train)\n",
        "#y_hat = model_mlp.predict(X_test)\n",
        "\n",
        "y_train_inverse = scaler.inverse_transform(Y_train)\n",
        "y_hatTrain_inverse = scaler.inverse_transform(y_hatTrain)\n",
        "\n",
        "#y_test_inverse = scaler.inverse_transform(Y_test)\n",
        "#y_hat_inverse = scaler.inverse_transform(y_hat)\n",
        "\n",
        "MSEDataTraining = mse(y_hatTrain_inverse, y_train_inverse)\n",
        "#MSEDataTesting = mse(y_hat_inverse, y_test_inverse)\n",
        "\n",
        "print(\"Nilai MSE data train = {}\".format(MSEDataTraining))\n",
        "#print(\"Nilai MSE data test = {}\".format(MSEDataTesting))"
      ],
      "execution_count": null,
      "outputs": [
        {
          "output_type": "stream",
          "text": [
            "Nilai MSE data train = 30998.478386697414\n"
          ],
          "name": "stdout"
        }
      ]
    },
    {
      "cell_type": "code",
      "metadata": {
        "id": "5fQeTJwbskUS"
      },
      "source": [
        "#model_mlp.save('/content/gdrive/My Drive/Kuliah/Skripsi/modelMLP')"
      ],
      "execution_count": null,
      "outputs": []
    },
    {
      "cell_type": "markdown",
      "metadata": {
        "id": "k0-rPMA0CFcL"
      },
      "source": [
        "# Predict"
      ]
    },
    {
      "cell_type": "code",
      "metadata": {
        "id": "PO5hLg3yst7u"
      },
      "source": [
        "model_mlp = tf.keras.models.load_model('/content/gdrive/My Drive/Kuliah/Skripsi/modelMLP')\n",
        "\n",
        "y_hatTrain = model_mlp.predict(X_train)\n",
        "y_hat = model_mlp.predict(X_test)\n",
        "\n",
        "y_train_inverse = scaler.inverse_transform(Y_train)\n",
        "y_hatTrain_inverse = scaler.inverse_transform(y_hatTrain)\n",
        "\n",
        "y_test_inverse = scaler.inverse_transform(Y_test)\n",
        "y_hat_inverse = scaler.inverse_transform(y_hat)"
      ],
      "execution_count": null,
      "outputs": []
    },
    {
      "cell_type": "code",
      "metadata": {
        "colab": {
          "base_uri": "https://localhost:8080/",
          "height": 431
        },
        "id": "xtIcJqwzGrZP",
        "outputId": "977bc39b-f477-4878-ea9d-bf33882bc3ef"
      },
      "source": [
        "y_train_inverse_df = pd.DataFrame(y_train_inverse, columns=[\"Aktual\"]).reset_index(drop = True)\n",
        "y_hatTrain_inverse_df = pd.DataFrame(y_hatTrain_inverse, columns=[\"Prediksi\"]).reset_index(drop = True)\n",
        "train_df = pd.concat([tanggal_train, y_train_inverse_df, y_hatTrain_inverse_df], axis=1)\n",
        "\n",
        "fig, ax = plt.subplots(figsize=(12, 6))\n",
        "sns.lineplot(train_df[\"Tanggal\"], train_df[\"Aktual\"], color = '#52f032')\n",
        "sns.lineplot(train_df[\"Tanggal\"], train_df[\"Prediksi\"], color = '#0324fc')\n",
        "\n",
        "ax.set_title('Harga Minyak Sawit Mentah\\n(Data Train)', fontsize = 14, loc='center', fontdict=dict(weight='bold'))\n",
        "ax.set_xlabel('')\n",
        "ax.set_ylabel('Harga', fontsize = 12, fontdict=dict(weight='bold'))\n",
        "plt.tick_params(axis='y', which='major', labelsize=14)\n",
        "plt.tick_params(axis='x', which='major', labelsize=14)\n",
        "ax.legend([\"Aktual\", \"Prediksi\"])"
      ],
      "execution_count": null,
      "outputs": [
        {
          "output_type": "execute_result",
          "data": {
            "text/plain": [
              "<matplotlib.legend.Legend at 0x7f4d986c22d0>"
            ]
          },
          "metadata": {
            "tags": []
          },
          "execution_count": 9
        },
        {
          "output_type": "display_data",
          "data": {
            "image/png": "[encoded data removed]",
            "text/plain": [
              "<Figure size 864x432 with 1 Axes>"
            ]
          },
          "metadata": {
            "tags": [],
            "needs_background": "light"
          }
        }
      ]
    },
    {
      "cell_type": "code",
      "metadata": {
        "colab": {
          "base_uri": "https://localhost:8080/",
          "height": 431
        },
        "id": "-umWFulaMIHf",
        "outputId": "22da2564-161c-4160-cd1d-63371a417c0f"
      },
      "source": [
        "y_test_inverse_df = pd.DataFrame(y_test_inverse, columns=[\"Aktual\"]).reset_index(drop = True)\n",
        "y_hat_inverse_df = pd.DataFrame(y_hat_inverse, columns=[\"Prediksi\"]).reset_index(drop = True)\n",
        "test_df = pd.concat([tanggal_test, y_test_inverse_df, y_hat_inverse_df], axis=1)\n",
        "\n",
        "fig, ax = plt.subplots(figsize=(12, 6))\n",
        "sns.lineplot(test_df[\"Tanggal\"], test_df[\"Aktual\"], color = '#52f032')\n",
        "sns.lineplot(test_df[\"Tanggal\"], test_df[\"Prediksi\"], color = '#0324fc')\n",
        "\n",
        "ax.set_title('Harga Minyak Sawit Mentah', fontsize = 14, loc='center', fontdict=dict(weight='bold'))\n",
        "ax.set_xlabel('')\n",
        "ax.set_ylabel('Harga', fontsize = 12, fontdict=dict(weight='bold'))\n",
        "plt.tick_params(axis='y', which='major', labelsize=14)\n",
        "plt.tick_params(axis='x', which='major', labelsize=14)\n",
        "ax.legend([\"Aktual\", \"Prediksi\"])"
      ],
      "execution_count": null,
      "outputs": [
        {
          "output_type": "execute_result",
          "data": {
            "text/plain": [
              "<matplotlib.legend.Legend at 0x7f4d97b9c8d0>"
            ]
          },
          "metadata": {
            "tags": []
          },
          "execution_count": 10
        },
        {
          "output_type": "display_data",
          "data": {
            "image/png": "[encoded data removed]",
            "text/plain": [
              "<Figure size 864x432 with 1 Axes>"
            ]
          },
          "metadata": {
            "tags": [],
            "needs_background": "light"
          }
        }
      ]
    },
    {
      "cell_type": "code",
      "metadata": {
        "colab": {
          "base_uri": "https://localhost:8080/"
        },
        "id": "Zmo5Y6DMTBo8",
        "outputId": "d4ae4957-81fd-4077-b7e1-53c7991f95c4"
      },
      "source": [
        "RMSEDataTesting = rmse(y_hat_inverse, y_test_inverse)\n",
        "print(\"Nilai RMSE yang dihasilkan sebesar = {}\".format(RMSEDataTesting))"
      ],
      "execution_count": null,
      "outputs": [
        {
          "output_type": "stream",
          "text": [
            "Nilai RMSE yang dihasilkan sebesar = 290.5909355384962\n"
          ],
          "name": "stdout"
        }
      ]
    },
    {
      "cell_type": "code",
      "metadata": {
        "id": "cw3nlYAFT-Vm",
        "colab": {
          "base_uri": "https://localhost:8080/"
        },
        "outputId": "2c561418-5d4d-4925-d98f-ed337b569465"
      },
      "source": [
        "MAPEDataTesting = mape(y_test_inverse, y_hat_inverse)\n",
        "print(\"Nilai MAPE yang dihasilkan sebesar = {}%\".format(MAPEDataTesting))"
      ],
      "execution_count": null,
      "outputs": [
        {
          "output_type": "stream",
          "text": [
            "Nilai MAPE yang dihasilkan sebesar = 2.291655846297664%\n"
          ],
          "name": "stdout"
        }
      ]
    },
    {
      "cell_type": "markdown",
      "metadata": {
        "id": "DVeSPfBxCL3v"
      },
      "source": [
        "# Weights"
      ]
    },
    {
      "cell_type": "code",
      "metadata": {
        "id": "Me6H3ma0uSmx"
      },
      "source": [
        "for layer in model_mlp.layers:\n",
        "    weights = layer.get_weights() \n",
        "\n",
        "weights_ho = weights[0]     #this is hidden to output\n",
        "bias_ho = weights[1]\n",
        "weights_ih = model_mlp.layers[0].get_weights()[0] #input to hidden\n",
        "bias_ih = model_mlp.layers[0].get_weights()[1]"
      ],
      "execution_count": null,
      "outputs": []
    },
    {
      "cell_type": "code",
      "metadata": {
        "colab": {
          "base_uri": "https://localhost:8080/"
        },
        "id": "STpboKfPvMTG",
        "outputId": "512006e1-7a4a-405b-8d77-035957671840"
      },
      "source": [
        "weights_ih"
      ],
      "execution_count": null,
      "outputs": [
        {
          "output_type": "execute_result",
          "data": {
            "text/plain": [
              "array([[-0.44715357,  1.0502883 ,  0.62757164,  0.09454652,  0.36401418,\n",
              "         0.72053516],\n",
              "       [ 0.7431706 , -0.43035898,  0.690428  , -0.41402644, -0.69201183,\n",
              "         0.63419586]], dtype=float32)"
            ]
          },
          "metadata": {
            "tags": []
          },
          "execution_count": 57
        }
      ]
    },
    {
      "cell_type": "code",
      "metadata": {
        "colab": {
          "base_uri": "https://localhost:8080/"
        },
        "id": "Nq32fShWvPtf",
        "outputId": "176ba5f4-ed3c-45c9-dc4f-b1f27e898f84"
      },
      "source": [
        "bias_ih"
      ],
      "execution_count": null,
      "outputs": [
        {
          "output_type": "execute_result",
          "data": {
            "text/plain": [
              "array([ 0.0952781 ,  0.0698484 , -0.05837948,  0.29188997, -0.02116006,\n",
              "        0.07014634], dtype=float32)"
            ]
          },
          "metadata": {
            "tags": []
          },
          "execution_count": 59
        }
      ]
    },
    {
      "cell_type": "code",
      "metadata": {
        "colab": {
          "base_uri": "https://localhost:8080/"
        },
        "id": "AzBLcRmqvUnq",
        "outputId": "49142347-9de7-421a-b6c7-6dfcfd10f4f4"
      },
      "source": [
        "weights_ho"
      ],
      "execution_count": null,
      "outputs": [
        {
          "output_type": "execute_result",
          "data": {
            "text/plain": [
              "array([[ 0.76145554],\n",
              "       [ 0.47529992],\n",
              "       [-0.72498065],\n",
              "       [-0.92553204],\n",
              "       [ 0.61719954],\n",
              "       [ 0.8334375 ]], dtype=float32)"
            ]
          },
          "metadata": {
            "tags": []
          },
          "execution_count": 61
        }
      ]
    },
    {
      "cell_type": "code",
      "metadata": {
        "colab": {
          "base_uri": "https://localhost:8080/"
        },
        "id": "1sjHMWnAvX74",
        "outputId": "5949f930-7a05-4675-f5b5-35405b7aefa7"
      },
      "source": [
        "bias_ho"
      ],
      "execution_count": null,
      "outputs": [
        {
          "output_type": "execute_result",
          "data": {
            "text/plain": [
              "array([0.07019287], dtype=float32)"
            ]
          },
          "metadata": {
            "tags": []
          },
          "execution_count": 63
        }
      ]
    },
    {
      "cell_type": "code",
      "metadata": {
        "id": "7Tr2qpB2gmMa"
      },
      "source": [
        "unseen = pd.read_excel('/content/gdrive/My Drive/Kuliah/Skripsi/CPO-bappebti-2.xlsx', parse_dates=['Tanggal'])\n",
        "unseen = unseen[unseen['Penyerahan'] == \"SPOT\"].reset_index(drop = True)\n",
        "unseen = unseen[[\"Tanggal\", \"Harga\"]]\n",
        "\n",
        "price_unseen = unseen.Harga.values.reshape(-1, 1)"
      ],
      "execution_count": null,
      "outputs": []
    },
    {
      "cell_type": "code",
      "metadata": {
        "id": "w-0FAtO3goyn"
      },
      "source": [
        "scaler = MinMaxScaler()\n",
        "scaler = scaler.fit(data.reshape(-1,1))\n",
        "data_scaled = scaler.transform(data)\n",
        "\n",
        "X_data = data_scaled[:, :-1]\n",
        "Y_data = data_scaled[:, -1].reshape(-1, 1)"
      ],
      "execution_count": null,
      "outputs": []
    },
    {
      "cell_type": "code",
      "metadata": {
        "colab": {
          "base_uri": "https://localhost:8080/"
        },
        "id": "dsUYoFvxg7ra",
        "outputId": "3edd48d6-a44a-49a9-9635-08bbaca4932b"
      },
      "source": [
        "reset_random_seeds()\n",
        " \n",
        "model_data = Sequential()\n",
        "model_data.add(Dense(5, activation='relu', input_dim=X_data.shape[1]))\n",
        "model_data.add(Dense(1))\n",
        "model_data.add(Activation('linear'))\n",
        "\n",
        "opt = tf.optimizers.Adam(learning_rate=0.001)\n",
        "model_data.compile(\n",
        "    loss='mean_squared_error', \n",
        "    optimizer=opt\n",
        ")\n",
        " \n",
        "BATCH_SIZE = 64\n",
        " \n",
        "history_data = model_data.fit(\n",
        "    X_data, \n",
        "    Y_data, \n",
        "    epochs=200, \n",
        "    batch_size=BATCH_SIZE,\n",
        "    verbose=0,\n",
        "    shuffle=False\n",
        "    )\n",
        " \n",
        "model_evaluate_train = model_data.evaluate(X_data, Y_data)\n",
        "print(\"Nilai evaluasi MSE data = {}\".format(model_evaluate_train))"
      ],
      "execution_count": null,
      "outputs": [
        {
          "output_type": "stream",
          "text": [
            "77/77 [==============================] - 0s 964us/step - loss: 5.2512e-04\n",
            "Nilai evaluasi MSE data = 0.0005251237889751792\n"
          ],
          "name": "stdout"
        }
      ]
    },
    {
      "cell_type": "code",
      "metadata": {
        "id": "9R-bMEf9g7Co"
      },
      "source": [
        "n_features = SEQ_LEN - 1\n",
        "SEQ = (0,9,10) # X(t-seq)/lag yang dipakai\n",
        "\n",
        "test_predictions = []\n",
        "\n",
        "first_eval_batch = Y_data[-n_features:]\n",
        "\n",
        "current_batch_1 = first_eval_batch.reshape((1, n_features))\n",
        "current_batch_2 = current_batch_1[:,SEQ]\n",
        "\n",
        "for i in range(len(price_unseen)):\n",
        "\n",
        "  pred = model_data.predict(current_batch_2)[0]\n",
        "  #pred = model_mlp.predict(current_batch_2)[0]\n",
        "\n",
        "  test_predictions.append(pred)\n",
        "\n",
        "  current_batch_1 = np.append(current_batch_1[:,1:],\n",
        "                              [pred],\n",
        "                              axis=1)\n",
        "  current_batch_2 = current_batch_1[:,SEQ]"
      ],
      "execution_count": null,
      "outputs": []
    },
    {
      "cell_type": "code",
      "metadata": {
        "colab": {
          "base_uri": "https://localhost:8080/",
          "height": 1000
        },
        "id": "jlRmWXSrhcZt",
        "outputId": "8fe941bf-6381-413a-ab62-e31270f5eb7a"
      },
      "source": [
        "actual_predictions = scaler.inverse_transform(test_predictions)\n",
        "\n",
        "unseen['actual_predictions'] = actual_predictions\n",
        "unseen"
      ],
      "execution_count": null,
      "outputs": [
        {
          "output_type": "execute_result",
          "data": {
            "text/html": [
              "<div>\n",
              "<style scoped>\n",
              "    .dataframe tbody tr th:only-of-type {\n",
              "        vertical-align: middle;\n",
              "    }\n",
              "\n",
              "    .dataframe tbody tr th {\n",
              "        vertical-align: top;\n",
              "    }\n",
              "\n",
              "    .dataframe thead th {\n",
              "        text-align: right;\n",
              "    }\n",
              "</style>\n",
              "<table border=\"1\" class=\"dataframe\">\n",
              "  <thead>\n",
              "    <tr style=\"text-align: right;\">\n",
              "      <th></th>\n",
              "      <th>Tanggal</th>\n",
              "      <th>Harga</th>\n",
              "      <th>actual_predictions</th>\n",
              "    </tr>\n",
              "  </thead>\n",
              "  <tbody>\n",
              "    <tr>\n",
              "      <th>0</th>\n",
              "      <td>2021-01-05</td>\n",
              "      <td>14913</td>\n",
              "      <td>13941.980234</td>\n",
              "    </tr>\n",
              "    <tr>\n",
              "      <th>1</th>\n",
              "      <td>2021-01-06</td>\n",
              "      <td>15288</td>\n",
              "      <td>14004.962547</td>\n",
              "    </tr>\n",
              "    <tr>\n",
              "      <th>2</th>\n",
              "      <td>2021-01-07</td>\n",
              "      <td>15934</td>\n",
              "      <td>13889.972187</td>\n",
              "    </tr>\n",
              "    <tr>\n",
              "      <th>3</th>\n",
              "      <td>2021-01-08</td>\n",
              "      <td>15752</td>\n",
              "      <td>13838.859462</td>\n",
              "    </tr>\n",
              "    <tr>\n",
              "      <th>4</th>\n",
              "      <td>2021-01-11</td>\n",
              "      <td>15539</td>\n",
              "      <td>13800.594284</td>\n",
              "    </tr>\n",
              "    <tr>\n",
              "      <th>5</th>\n",
              "      <td>2021-01-12</td>\n",
              "      <td>15138</td>\n",
              "      <td>13745.022460</td>\n",
              "    </tr>\n",
              "    <tr>\n",
              "      <th>6</th>\n",
              "      <td>2021-01-13</td>\n",
              "      <td>14567</td>\n",
              "      <td>13703.974449</td>\n",
              "    </tr>\n",
              "    <tr>\n",
              "      <th>7</th>\n",
              "      <td>2021-01-14</td>\n",
              "      <td>14457</td>\n",
              "      <td>13692.722722</td>\n",
              "    </tr>\n",
              "    <tr>\n",
              "      <th>8</th>\n",
              "      <td>2021-01-15</td>\n",
              "      <td>14246</td>\n",
              "      <td>13712.772250</td>\n",
              "    </tr>\n",
              "    <tr>\n",
              "      <th>9</th>\n",
              "      <td>2021-01-18</td>\n",
              "      <td>13698</td>\n",
              "      <td>13730.896507</td>\n",
              "    </tr>\n",
              "    <tr>\n",
              "      <th>10</th>\n",
              "      <td>2021-01-19</td>\n",
              "      <td>13904</td>\n",
              "      <td>13736.787246</td>\n",
              "    </tr>\n",
              "    <tr>\n",
              "      <th>11</th>\n",
              "      <td>2021-01-20</td>\n",
              "      <td>13484</td>\n",
              "      <td>13758.088365</td>\n",
              "    </tr>\n",
              "    <tr>\n",
              "      <th>12</th>\n",
              "      <td>2021-01-21</td>\n",
              "      <td>13658</td>\n",
              "      <td>13769.264570</td>\n",
              "    </tr>\n",
              "    <tr>\n",
              "      <th>13</th>\n",
              "      <td>2021-01-22</td>\n",
              "      <td>13912</td>\n",
              "      <td>13788.703353</td>\n",
              "    </tr>\n",
              "    <tr>\n",
              "      <th>14</th>\n",
              "      <td>2021-01-26</td>\n",
              "      <td>14104</td>\n",
              "      <td>13804.209503</td>\n",
              "    </tr>\n",
              "    <tr>\n",
              "      <th>15</th>\n",
              "      <td>2021-01-27</td>\n",
              "      <td>14109</td>\n",
              "      <td>13823.014008</td>\n",
              "    </tr>\n",
              "    <tr>\n",
              "      <th>16</th>\n",
              "      <td>2021-01-28</td>\n",
              "      <td>14377</td>\n",
              "      <td>13841.000902</td>\n",
              "    </tr>\n",
              "    <tr>\n",
              "      <th>17</th>\n",
              "      <td>2021-01-29</td>\n",
              "      <td>14582</td>\n",
              "      <td>13853.080092</td>\n",
              "    </tr>\n",
              "    <tr>\n",
              "      <th>18</th>\n",
              "      <td>2021-02-01</td>\n",
              "      <td>14937</td>\n",
              "      <td>13863.455104</td>\n",
              "    </tr>\n",
              "    <tr>\n",
              "      <th>19</th>\n",
              "      <td>2021-02-02</td>\n",
              "      <td>14859</td>\n",
              "      <td>13874.319917</td>\n",
              "    </tr>\n",
              "    <tr>\n",
              "      <th>20</th>\n",
              "      <td>2021-02-03</td>\n",
              "      <td>14910</td>\n",
              "      <td>13884.833934</td>\n",
              "    </tr>\n",
              "    <tr>\n",
              "      <th>21</th>\n",
              "      <td>2021-02-04</td>\n",
              "      <td>14930</td>\n",
              "      <td>13894.114968</td>\n",
              "    </tr>\n",
              "    <tr>\n",
              "      <th>22</th>\n",
              "      <td>2021-02-05</td>\n",
              "      <td>15357</td>\n",
              "      <td>13904.077344</td>\n",
              "    </tr>\n",
              "    <tr>\n",
              "      <th>23</th>\n",
              "      <td>2021-02-08</td>\n",
              "      <td>15051</td>\n",
              "      <td>13913.141114</td>\n",
              "    </tr>\n",
              "    <tr>\n",
              "      <th>24</th>\n",
              "      <td>2021-02-09</td>\n",
              "      <td>15011</td>\n",
              "      <td>13922.661849</td>\n",
              "    </tr>\n",
              "    <tr>\n",
              "      <th>25</th>\n",
              "      <td>2021-02-10</td>\n",
              "      <td>15675</td>\n",
              "      <td>13931.832883</td>\n",
              "    </tr>\n",
              "    <tr>\n",
              "      <th>26</th>\n",
              "      <td>2021-02-11</td>\n",
              "      <td>14705</td>\n",
              "      <td>13941.238145</td>\n",
              "    </tr>\n",
              "    <tr>\n",
              "      <th>27</th>\n",
              "      <td>2021-02-12</td>\n",
              "      <td>14864</td>\n",
              "      <td>13950.608383</td>\n",
              "    </tr>\n",
              "    <tr>\n",
              "      <th>28</th>\n",
              "      <td>2021-02-15</td>\n",
              "      <td>15943</td>\n",
              "      <td>13959.457079</td>\n",
              "    </tr>\n",
              "    <tr>\n",
              "      <th>29</th>\n",
              "      <td>2021-02-16</td>\n",
              "      <td>16177</td>\n",
              "      <td>13967.841696</td>\n",
              "    </tr>\n",
              "    <tr>\n",
              "      <th>30</th>\n",
              "      <td>2021-02-17</td>\n",
              "      <td>15509</td>\n",
              "      <td>13975.877706</td>\n",
              "    </tr>\n",
              "    <tr>\n",
              "      <th>31</th>\n",
              "      <td>2021-02-18</td>\n",
              "      <td>15713</td>\n",
              "      <td>13983.563468</td>\n",
              "    </tr>\n",
              "    <tr>\n",
              "      <th>32</th>\n",
              "      <td>2021-02-19</td>\n",
              "      <td>15502</td>\n",
              "      <td>13990.845350</td>\n",
              "    </tr>\n",
              "    <tr>\n",
              "      <th>33</th>\n",
              "      <td>2021-02-22</td>\n",
              "      <td>15717</td>\n",
              "      <td>13997.874943</td>\n",
              "    </tr>\n",
              "    <tr>\n",
              "      <th>34</th>\n",
              "      <td>2021-02-23</td>\n",
              "      <td>15587</td>\n",
              "      <td>14004.572348</td>\n",
              "    </tr>\n",
              "    <tr>\n",
              "      <th>35</th>\n",
              "      <td>2021-02-24</td>\n",
              "      <td>15947</td>\n",
              "      <td>14011.060699</td>\n",
              "    </tr>\n",
              "    <tr>\n",
              "      <th>36</th>\n",
              "      <td>2021-02-25</td>\n",
              "      <td>15803</td>\n",
              "      <td>14017.312631</td>\n",
              "    </tr>\n",
              "    <tr>\n",
              "      <th>37</th>\n",
              "      <td>2021-02-26</td>\n",
              "      <td>15943</td>\n",
              "      <td>14023.399291</td>\n",
              "    </tr>\n",
              "  </tbody>\n",
              "</table>\n",
              "</div>"
            ],
            "text/plain": [
              "      Tanggal  Harga  actual_predictions\n",
              "0  2021-01-05  14913        13941.980234\n",
              "1  2021-01-06  15288        14004.962547\n",
              "2  2021-01-07  15934        13889.972187\n",
              "3  2021-01-08  15752        13838.859462\n",
              "4  2021-01-11  15539        13800.594284\n",
              "5  2021-01-12  15138        13745.022460\n",
              "6  2021-01-13  14567        13703.974449\n",
              "7  2021-01-14  14457        13692.722722\n",
              "8  2021-01-15  14246        13712.772250\n",
              "9  2021-01-18  13698        13730.896507\n",
              "10 2021-01-19  13904        13736.787246\n",
              "11 2021-01-20  13484        13758.088365\n",
              "12 2021-01-21  13658        13769.264570\n",
              "13 2021-01-22  13912        13788.703353\n",
              "14 2021-01-26  14104        13804.209503\n",
              "15 2021-01-27  14109        13823.014008\n",
              "16 2021-01-28  14377        13841.000902\n",
              "17 2021-01-29  14582        13853.080092\n",
              "18 2021-02-01  14937        13863.455104\n",
              "19 2021-02-02  14859        13874.319917\n",
              "20 2021-02-03  14910        13884.833934\n",
              "21 2021-02-04  14930        13894.114968\n",
              "22 2021-02-05  15357        13904.077344\n",
              "23 2021-02-08  15051        13913.141114\n",
              "24 2021-02-09  15011        13922.661849\n",
              "25 2021-02-10  15675        13931.832883\n",
              "26 2021-02-11  14705        13941.238145\n",
              "27 2021-02-12  14864        13950.608383\n",
              "28 2021-02-15  15943        13959.457079\n",
              "29 2021-02-16  16177        13967.841696\n",
              "30 2021-02-17  15509        13975.877706\n",
              "31 2021-02-18  15713        13983.563468\n",
              "32 2021-02-19  15502        13990.845350\n",
              "33 2021-02-22  15717        13997.874943\n",
              "34 2021-02-23  15587        14004.572348\n",
              "35 2021-02-24  15947        14011.060699\n",
              "36 2021-02-25  15803        14017.312631\n",
              "37 2021-02-26  15943        14023.399291"
            ]
          },
          "metadata": {
            "tags": []
          },
          "execution_count": 82
        }
      ]
    },
    {
      "cell_type": "code",
      "metadata": {
        "colab": {
          "base_uri": "https://localhost:8080/"
        },
        "id": "vUwIATiKkPLu",
        "outputId": "5b242f23-565d-47cf-e68f-bd835eb7ea4a"
      },
      "source": [
        "RMSEDataTesting = rmse(actual_predictions[:18], price_unseen[:18])\n",
        "print(\"Nilai RMSE yang dihasilkan sebesar = {}\".format(RMSEDataTesting))"
      ],
      "execution_count": null,
      "outputs": [
        {
          "output_type": "stream",
          "text": [
            "Nilai RMSE yang dihasilkan sebesar = 1518.197938973646\n"
          ],
          "name": "stdout"
        }
      ]
    },
    {
      "cell_type": "code",
      "metadata": {
        "colab": {
          "base_uri": "https://localhost:8080/"
        },
        "id": "qpKvs9WSkPMS",
        "outputId": "1fd2f137-9fbf-4256-c064-efda3b6188c0"
      },
      "source": [
        "MAPEDataTesting = mape(price_unseen[:18], actual_predictions[:18])\n",
        "print(\"Nilai MAPE yang dihasilkan sebesar = {}%\".format(MAPEDataTesting))"
      ],
      "execution_count": null,
      "outputs": [
        {
          "output_type": "stream",
          "text": [
            "Nilai MAPE yang dihasilkan sebesar = 9.455843771871052%\n"
          ],
          "name": "stdout"
        }
      ]
    },
    {
      "cell_type": "code",
      "metadata": {
        "colab": {
          "base_uri": "https://localhost:8080/"
        },
        "id": "kbX-J2oFkav0",
        "outputId": "3dd20144-d725-4117-a078-adca412eedb0"
      },
      "source": [
        "SEQ_LEN = 12\n",
        "SEQ = (8,10,11)\n",
        "\n",
        "price = df.Harga.values.reshape(-1, 1)\n",
        "\n",
        "data = to_sequences(price, SEQ_LEN)\n",
        "data = data.reshape(data.shape[0], SEQ_LEN)\n",
        "data = data[:,SEQ]\n",
        "\n",
        "train_split = 0.7\n",
        "\n",
        "num_train = int(train_split * data.shape[0])\n",
        "\n",
        "train = data[:num_train, :]\n",
        "test = data[num_train:, :]\n",
        "\n",
        "scaler = MinMaxScaler()\n",
        "scaler = scaler.fit(train.reshape(-1,1))\n",
        "\n",
        "train_scaled = scaler.transform(train)\n",
        "test_scaled = scaler.transform(test)\n",
        "\n",
        "X_train = train_scaled[:, :-1]\n",
        "Y_train = train_scaled[:, -1].reshape(-1, 1)\n",
        "X_test = test_scaled[:, :-1]\n",
        "Y_test = test_scaled[:, -1].reshape(-1, 1)\n",
        "\n",
        "MSETrain_all=[]\n",
        "\n",
        "opt = tf.optimizers.RMSprop(learning_rate=0.001)\n",
        "#units=np.arange(3,9)\n",
        "repeats = 10\n",
        "for r in range(repeats):\n",
        "    model_mlp = Sequential()\n",
        "    model_mlp.add(Dense(8, activation='relu', input_dim=X_train.shape[1]))\n",
        "    model_mlp.add(Dense(1))\n",
        "    model_mlp.add(Activation('linear'))\n",
        "    \n",
        "    model_mlp.compile(\n",
        "        loss='mean_squared_error', \n",
        "        optimizer=opt\n",
        "    )\n",
        "    \n",
        "    model_mlp.fit(\n",
        "        X_train, \n",
        "        Y_train, \n",
        "        epochs=200, \n",
        "        batch_size=64,\n",
        "        shuffle=False,\n",
        "        verbose=0\n",
        "    )\n",
        "        \n",
        "    y_hatTrain = model_mlp.predict(X_train)\n",
        "    y_train_inverse = scaler.inverse_transform(Y_train)\n",
        "        \n",
        "    y_hatTrain_inverse = scaler.inverse_transform(y_hatTrain)\n",
        "        \n",
        "    MSEDataTraining = mse(y_hatTrain_inverse, y_train_inverse)\n",
        "        \n",
        "    MSETrain_all.append(MSEDataTraining)\n",
        "\n",
        "print(\"Nilai MSE Train All\")\n",
        "for v in MSETrain_all:\n",
        "    print(v)"
      ],
      "execution_count": null,
      "outputs": [
        {
          "output_type": "stream",
          "text": [
            "Nilai MSE Train All\n",
            "32146.65658792165\n",
            "33746.26713794965\n",
            "33157.008374607794\n",
            "32818.79585654046\n",
            "33234.940644566304\n",
            "32560.290542146922\n",
            "33247.29742892417\n",
            "33442.77661311287\n",
            "31702.553437887338\n",
            "32144.94940002662\n"
          ],
          "name": "stdout"
        }
      ]
    }
  ]
}
